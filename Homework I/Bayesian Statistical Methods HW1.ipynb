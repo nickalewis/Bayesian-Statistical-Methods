{
 "cells": [
  {
   "cell_type": "markdown",
   "metadata": {},
   "source": [
    "# PHP 2530: Bayesian Statistical Methods Homework I"
   ]
  },
  {
   "cell_type": "code",
   "execution_count": 2,
   "metadata": {},
   "outputs": [],
   "source": [
    "#literally everything\n",
    "import numpy as np\n",
    "#for plotting our histograms, contours and lines\n",
    "import matplotlib.pyplot as plt\n",
    "#for making dataframes\n",
    "import pandas as pd\n",
    "#lets us use probability distributions like t, beta, gamma,etc.\n",
    "from scipy.stats import norm, expon, poisson, uniform, nbinom, gamma\n",
    "from scipy.special import gammaln #for computing the factorial\n",
    "from IPython.display import display, Math, Latex"
   ]
  },
  {
   "cell_type": "markdown",
   "metadata": {
    "scrolled": true
   },
   "source": [
    "# Problem 3 (BDA 3rd Ed. Exercise 1.9)\n",
    "\n",
    "Simulation of a queuing problem: a clinic has three doctors. Patients come into the clinic at\n",
    "random, starting at 9 a.m., according to a Poisson process with time parameter 10 minutes: that\n",
    "is, the time after opening at which the first patient appears follows an exponential distribution\n",
    "with expectation 10 minutes and then, after each patient arrives, the waiting time until the next\n",
    "patient is independently exponentially distributed, also with expectation 10 minutes. When a\n",
    "patient arrives, he or she waits until a doctor is available. The amount of time spent by each\n",
    "doctor with each patient is a random variable, uniformly distributed between 15 and 20 minutes.\n",
    "The office stops admitting new patients at 4 p.m. and closes when the last patient is through\n",
    "with the doctor."
   ]
  },
  {
   "cell_type": "markdown",
   "metadata": {},
   "source": [
    ">**(a) Simulate this process once. How many patients came to the office? How many had to\n",
    "wait for a doctor? What was their average wait? When did the office close?**"
   ]
  },
  {
   "cell_type": "code",
   "execution_count": 4,
   "metadata": {},
   "outputs": [],
   "source": [
    "def poisson_process(l,time,a,b,num): \n",
    "  '''\n",
    "  ### MODEL PARAMETERS\n",
    "  # l - rate parameter\n",
    "  # time - time period we're interested in (lambda and time must be same scale)\n",
    "  # a, b - time interval of time spent with patient. i.e. U ~ uniform(a,b)\n",
    "  # num - number of doctors in the clinic\n",
    "  '''\n",
    "  #samples 10*mean(Poisson(lambda*t)) from T ~ Exp(lambda) and sums them. \n",
    "  arr_T = np.cumsum(expon.rvs(size=int(10*time/l),scale=l))\n",
    "  #remove anything exceeding time. we don't take patients after that\n",
    "  arr_T = np.array([x for x in arr_T if x <= time])\n",
    "  # records appointment duration wrt opening time\n",
    "  doc = np.repeat(0.0,num) #must be 0.0 to allow for floats.\n",
    "  wait = np.zeros(len(arr_T))\n",
    "  for j in range(len(arr_T)): \n",
    "      # waiting time of patient j\n",
    "      wait[j] = doc.min() - arr_T[j]\n",
    "      #appointment duration\n",
    "      u = uniform.rvs(size=1, loc=a, scale=b-a)\n",
    "      doc[doc.argmin()] = np.array([doc.min() if wait[j]>0 else arr_T[j]]) + u\n",
    "  #if wait <= 0, they didn't wait. If wait > 0, they did\n",
    "  #waiting time is simply sum of positive waiting times\n",
    "  number_waited, time_waiting = len(wait[wait > 0]), sum(wait[wait > 0])\n",
    "  #clinic closes either at 4:00pm, or when they finish\n",
    "  closing_time = np.max([doc.max(),time])\n",
    "  #in the case that no one waits on a doctor\n",
    "  avg_wait_time = [ 0 if number_waited==0 else time_waiting / number_waited]\n",
    "  ### STORES OUR INFORMATION\n",
    "  df  = {\n",
    "        'Number of Arrivals': [len(arr_T)],\n",
    "        'Number of Patients': number_waited,\n",
    "        'Average Waiting Time': avg_wait_time,\n",
    "        'Closing Time': closing_time\n",
    "                   } \n",
    "  df = pd.DataFrame(df)\n",
    "  return(df)"
   ]
  },
  {
   "cell_type": "code",
   "execution_count": 5,
   "metadata": {
    "scrolled": true
   },
   "outputs": [
    {
     "name": "stdout",
     "output_type": "stream",
     "text": [
      "   Number of Arrivals  Number of Patients  Average Waiting Time  Closing Time\n",
      "0                  47                  14              6.866326    439.467246\n"
     ]
    }
   ],
   "source": [
    "# PART A\n",
    "print(poisson_process(l=10,time=420,a=15,b=20,num=3))"
   ]
  },
  {
   "cell_type": "markdown",
   "metadata": {},
   "source": [
    ">**(b) Simulate the process 100 times and estimate the median and 50\\% interval for each of\n",
    "the summaries in (a).**\n",
    " "
   ]
  },
  {
   "cell_type": "code",
   "execution_count": 8,
   "metadata": {},
   "outputs": [
    {
     "data": {
      "text/html": [
       "<div>\n",
       "<style scoped>\n",
       "    .dataframe tbody tr th:only-of-type {\n",
       "        vertical-align: middle;\n",
       "    }\n",
       "\n",
       "    .dataframe tbody tr th {\n",
       "        vertical-align: top;\n",
       "    }\n",
       "\n",
       "    .dataframe thead th {\n",
       "        text-align: right;\n",
       "    }\n",
       "</style>\n",
       "<table border=\"1\" class=\"dataframe\">\n",
       "  <thead>\n",
       "    <tr style=\"text-align: right;\">\n",
       "      <th></th>\n",
       "      <th>Number of Arrivals</th>\n",
       "      <th>Number of Patients</th>\n",
       "      <th>Average Waiting Time</th>\n",
       "      <th>Closing Time</th>\n",
       "    </tr>\n",
       "  </thead>\n",
       "  <tbody>\n",
       "    <tr>\n",
       "      <th>0.25</th>\n",
       "      <td>37.0</td>\n",
       "      <td>6.0</td>\n",
       "      <td>4.92</td>\n",
       "      <td>425.38</td>\n",
       "    </tr>\n",
       "    <tr>\n",
       "      <th>0.50</th>\n",
       "      <td>41.0</td>\n",
       "      <td>12.0</td>\n",
       "      <td>6.24</td>\n",
       "      <td>431.97</td>\n",
       "    </tr>\n",
       "    <tr>\n",
       "      <th>0.75</th>\n",
       "      <td>47.0</td>\n",
       "      <td>18.0</td>\n",
       "      <td>8.04</td>\n",
       "      <td>435.75</td>\n",
       "    </tr>\n",
       "  </tbody>\n",
       "</table>\n",
       "</div>"
      ],
      "text/plain": [
       "      Number of Arrivals  Number of Patients  Average Waiting Time  \\\n",
       "0.25                37.0                 6.0                  4.92   \n",
       "0.50                41.0                12.0                  6.24   \n",
       "0.75                47.0                18.0                  8.04   \n",
       "\n",
       "      Closing Time  \n",
       "0.25        425.38  \n",
       "0.50        431.97  \n",
       "0.75        435.75  "
      ]
     },
     "execution_count": 8,
     "metadata": {},
     "output_type": "execute_result"
    }
   ],
   "source": [
    "#PART B \n",
    "#gets samples (note:_ convention for a variable whose value you don't care for)\n",
    "w = [poisson_process(l=10,time=420,a=15,b=20,num=3) for _ in range(101)]\n",
    "w = pd.concat(w)\n",
    "#so we can see all the data\n",
    "np.round(w.quantile([0.25,0.50,0.75], axis = 0),2)"
   ]
  },
  {
   "cell_type": "markdown",
   "metadata": {},
   "source": [
    "# Problem 4 (BDA 3rd Ed., Exercise 2.4)\n",
    "\n",
    "Predictive distributions: let y be the number of 6’s in 1000 independent rolls of a particular real die, which may be unfair. Let $\\theta$ be the probability that the die lands on ‘6.’\n",
    "Suppose your prior distribution for $\\theta$ is as follows:\n",
    "\n",
    "\\begin{alignat*}{1}\n",
    "Pr(\\theta = 1/12) &= 0.25\\\\\n",
    "Pr(\\theta = 1/6) &= 0.50\\\\\n",
    "Pr(\\theta = 1/4) &= 0.25\\\\\n",
    "\\end{alignat*}\n"
   ]
  },
  {
   "cell_type": "markdown",
   "metadata": {},
   "source": [
    ">**(a) Using the normal approximation for the conditional distributions, $p(y|\\theta)$, sketch your\n",
    "approximate prior predictive distribution for y.**"
   ]
  },
  {
   "cell_type": "code",
   "execution_count": 9,
   "metadata": {},
   "outputs": [
    {
     "data": {
      "image/png": "[encoded data removed]",
      "text/plain": [
       "<Figure size 400x400 with 1 Axes>"
      ]
     },
     "metadata": {
      "needs_background": "light"
     },
     "output_type": "display_data"
    }
   ],
   "source": [
    "### PROBLEM 4 (BDA 3rd. Ed. 2.4)\n",
    "\n",
    "#values that we want to plug in for our pdf\n",
    "y = np.linspace(start=0, stop=300, num=1000)\n",
    "#normal approx. to binomial\n",
    "def fy(x,theta) : \n",
    "    mu = 1000*theta; sd = np.sqrt(1000*theta*(1-theta))\n",
    "    return norm.pdf(x, loc = mu, scale = sd)\n",
    "\n",
    "#sample space of parameter theta\n",
    "theta_values = np.array([1/12,1/6,1/4])\n",
    "#probability associated with each value of theta\n",
    "theta_probs = np.array([0.25,0.5,0.25])\n",
    "\n",
    "#does matrix multiplication. (1000x3)(2x1) -> 1000x1 vector\n",
    "p = fy(y[:,None], theta_values).dot(theta_probs)\n",
    "\n",
    "# Draw Plot\n",
    "plt.figure(figsize=(5,5), dpi= 80) #dimensions of figure\n",
    "\n",
    "ax = plt.axes() # Setting the background color of the plot \n",
    "ax.set_facecolor(\"white\") # using set_facecolor() method\n",
    "\n",
    "plt.plot(y,p,color=\"black\",alpha=0.7,linewidth=2)\n",
    "plt.xlabel('y',fontweight='bold')\n",
    "plt.ylabel(\"$f_{Y}(y)$\",fontweight='bold')\n",
    "plt.title('Prior Predictive Distribution')\n",
    "plt.show()"
   ]
  },
  {
   "cell_type": "markdown",
   "metadata": {},
   "source": [
    ">**(b) Give approximate 5\\%, 25\\%, 50\\%, 75\\%, and 95\\% points for the distribution of y. (Be\n",
    "careful here: y does not have a normal distribution, but you can still use the normal\n",
    "distribution as part of your analysis.)**"
   ]
  },
  {
   "cell_type": "markdown",
   "metadata": {},
   "source": [
    "## METHOD 1: Quantile Approximation\n",
    "\n",
    "One strategy to find the quantiles is to recognize that the weights (i.e. the prior probability values) reveal how much each individual gaussian contributes to the pdf.\n",
    "\n",
    "The leftmost Gaussian contributes 25\\% of the mass, so the 5\\% quantile is simply the 20\\% quantile of this Gaussian (i.e. 20\\% of 25 is 5). \n",
    "\n",
    "Following similar logic the 25\\% quantile is directly between the first spike and the second spike (through trial and error I have found that taking the 99.997\\% of the first Gaussian gives extremely close results). \n",
    "\n",
    "By symmetry, the 50\\% quantile is directly in the middle of the second spike.\n",
    "\n",
    "The 75\\% quantile is directly between the second and third spikes (taking the 99.96\\% quantile of the second provides accurate results),\n",
    "\n",
    "The 95\\% quantile is given by the 80\\% quantile of the third spike since the previous two gaussians contribute 75\\% of the mass, we look for where the third gaussian contributes 20\\% (i.e. 80\\% of 25 is 20).\n"
   ]
  },
  {
   "cell_type": "code",
   "execution_count": 11,
   "metadata": {},
   "outputs": [
    {
     "data": {
      "text/html": [
       "<div>\n",
       "<style scoped>\n",
       "    .dataframe tbody tr th:only-of-type {\n",
       "        vertical-align: middle;\n",
       "    }\n",
       "\n",
       "    .dataframe tbody tr th {\n",
       "        vertical-align: top;\n",
       "    }\n",
       "\n",
       "    .dataframe thead th {\n",
       "        text-align: right;\n",
       "    }\n",
       "</style>\n",
       "<table border=\"1\" class=\"dataframe\">\n",
       "  <thead>\n",
       "    <tr style=\"text-align: right;\">\n",
       "      <th></th>\n",
       "      <th>5.0%</th>\n",
       "      <th>25.0%</th>\n",
       "      <th>50.0%</th>\n",
       "      <th>75.0%</th>\n",
       "      <th>95.0%</th>\n",
       "    </tr>\n",
       "  </thead>\n",
       "  <tbody>\n",
       "    <tr>\n",
       "      <th>0</th>\n",
       "      <td>75.98</td>\n",
       "      <td>118.0</td>\n",
       "      <td>166.67</td>\n",
       "      <td>206.45</td>\n",
       "      <td>261.52</td>\n",
       "    </tr>\n",
       "  </tbody>\n",
       "</table>\n",
       "</div>"
      ],
      "text/plain": [
       "    5.0%  25.0%   50.0%   75.0%   95.0%\n",
       "0  75.98  118.0  166.67  206.45  261.52"
      ]
     },
     "execution_count": 11,
     "metadata": {},
     "output_type": "execute_result"
    }
   ],
   "source": [
    "#Note, use 0.9999 for the quantiles in between. 1 gives you Infinity\n",
    "q = [0.20,0.99997,0.50,0.9996,0.80]\n",
    "mu_theta = np.array([1/12,1/12,1/6,1/6,1/4])\n",
    "sd_theta = np.sqrt(1000*mu_theta*(1-mu_theta))\n",
    "\n",
    "Q = norm.ppf(q,loc = 1000*mu_theta,scale = sd_theta)\n",
    "\n",
    "#put into dataframe so it looks nice\n",
    "Q = pd.DataFrame(np.round(Q,3).reshape(1,5),\n",
    "                 columns= [\"5%\",\"25%\",\"50%\",\"75%\",\"95%\"])\n",
    "print(Q)\n"
   ]
  },
  {
   "cell_type": "markdown",
   "metadata": {},
   "source": [
    "## METHOD 2: \n",
    "Another equally valid method is to recognize that\n",
    "\n",
    "\\begin{alignat*}{1}\n",
    "\\int^{y}_{-\\infty} p(y') dy' &=  \\int^{y}_{-\\infty} \\sum_{\\theta} p(y'|\\theta)p(\\theta) dy' &= \\sum_{\\theta} \\int^{y}_{-\\infty} p(y'|\\theta)p(\\theta) dy'\\\\\n",
    "F(y) &= \\sum_{\\theta} F(y|\\theta)p(\\theta)\\\\\n",
    "\\end{alignat*}\n",
    "\n",
    "This gives us a form for the cdf of a mixture model. From here we can use a line-search method to find the values y such that $F(y) - q = 0$, where q is our quantile value.\n"
   ]
  },
  {
   "cell_type": "code",
   "execution_count": 12,
   "metadata": {},
   "outputs": [
    {
     "data": {
      "text/html": [
       "<div>\n",
       "<style scoped>\n",
       "    .dataframe tbody tr th:only-of-type {\n",
       "        vertical-align: middle;\n",
       "    }\n",
       "\n",
       "    .dataframe tbody tr th {\n",
       "        vertical-align: top;\n",
       "    }\n",
       "\n",
       "    .dataframe thead th {\n",
       "        text-align: right;\n",
       "    }\n",
       "</style>\n",
       "<table border=\"1\" class=\"dataframe\">\n",
       "  <thead>\n",
       "    <tr style=\"text-align: right;\">\n",
       "      <th></th>\n",
       "      <th>5%</th>\n",
       "      <th>25%</th>\n",
       "      <th>50%</th>\n",
       "      <th>75%</th>\n",
       "      <th>95%</th>\n",
       "    </tr>\n",
       "  </thead>\n",
       "  <tbody>\n",
       "    <tr>\n",
       "      <th>0</th>\n",
       "      <td>75.978</td>\n",
       "      <td>118.406</td>\n",
       "      <td>166.667</td>\n",
       "      <td>206.18</td>\n",
       "      <td>261.524</td>\n",
       "    </tr>\n",
       "  </tbody>\n",
       "</table>\n",
       "</div>"
      ],
      "text/plain": [
       "       5%      25%      50%     75%      95%\n",
       "0  75.978  118.406  166.667  206.18  261.524"
      ]
     },
     "execution_count": 12,
     "metadata": {},
     "output_type": "execute_result"
    }
   ],
   "source": [
    "#METHOD 2: Root Finder\n",
    "\n",
    "# GMQ- Gaussian Mixture Quantiles. Uses line search to find roots\n",
    "def GMQ(p,theta,w,y,tol):\n",
    "    '''\n",
    "    Parameters\n",
    "    ----------\n",
    "    p : quantiles we wish to obtian values for\n",
    "    theta : finite parameter space for theta\n",
    "    w : weights attached to each theta\n",
    "    y : Tupper bound of range to search over (i.e. we look from [0,y])\n",
    "    tol : control parameter. smaller tol means more exact answer\n",
    "\n",
    "    Returns\n",
    "    -------\n",
    "    Quantiles of the gaussian mixture model\n",
    "\n",
    "    '''\n",
    "\n",
    "    #cdf function\n",
    "    def gmm(x,theta):\n",
    "        mu = 1000*theta; sd = np.sqrt(1000*theta*(1-theta))\n",
    "        return norm.cdf(x,loc=mu, scale = sd)\n",
    "    #y values to plug into cdf; \n",
    "    x = np.arange(0,y+tol,tol)\n",
    "    #values of function cdf(y)- q; length of quantile\n",
    "    mass = gmm(x[:,None], theta).dot(w); n = len(p)\n",
    "    ww = abs(mass[:,None]-p[None,:])\n",
    "    quantile = x[ww.argmin(axis=0)]\n",
    "    #names the quantiles we're looking for\n",
    "    quantile_names = [str(100*p[j])+'%' for j in range(n)]\n",
    "    #Nice, readable form\n",
    "    quantiles = pd.DataFrame(quantile.reshape(1,n),\n",
    "                            columns = quantile_names)\n",
    "    return quantiles \n",
    "\n",
    "#quantile values\n",
    "GMQ(p=np.array([0.05,0.25,0.50,0.75,0.95]),\n",
    "    theta=theta_values,\n",
    "    w=theta_probs,\n",
    "    y=500,\n",
    "    tol = 0.01)"
   ]
  },
  {
   "cell_type": "markdown",
   "metadata": {},
   "source": [
    "# Problem 6: (BDA 3rd Ed., Exercise 2.8)\n",
    "\n",
    "Normal distribution with unknown mean: a random sample of n students is drawn\n",
    "from a large population, and their weights are measured. The average weight of the n\n",
    "sampled students is $\\bar{y} = 150$ pounds. Assume the weights in the population are normally\n",
    "distributed with unknown mean $\\theta$ and known standard deviation 20 pounds. Suppose\n",
    "your prior distribution for $\\theta$ is normal with mean 180 and standard deviation 40."
   ]
  },
  {
   "cell_type": "code",
   "execution_count": 3,
   "metadata": {},
   "outputs": [],
   "source": [
    "#functions for mean and variance of posterior\n",
    "def var_n(n,a,b): return 1/(1/(a)**2 + n/(b)**2)\n",
    "def mu_n(n,a,b,m,y): return var_n(n,a,b)*(m/(a)**2 + (n*y)/(b)**2)\n",
    "\n",
    "mu = mu_n(n=np.array([10,10,100,100]),a=40,b=20,m=180,y=150)\n",
    "var = var_n(n=np.array([10,10,100,100]),a=40,b=20)+np.array([0,20**2,0,20**2])\n",
    "\n",
    "norm_ci = norm.ppf([0.025,0.975],loc = mu[:,None],scale = np.sqrt(var[:,None]))\n",
    "norm_ci = np.round(norm_ci, 2) "
   ]
  },
  {
   "cell_type": "markdown",
   "metadata": {},
   "source": [
    ">**(c) For $n = 10$, give a 95\\% posterior interval for $\\theta$ and a 95\\% posterior predictive interval\n",
    "for $\\tilde{y}$.**"
   ]
  },
  {
   "cell_type": "code",
   "execution_count": 4,
   "metadata": {},
   "outputs": [
    {
     "name": "stdout",
     "output_type": "stream",
     "text": [
      "The 95% posterior interval for part c is [138.49 162.98], the 95% predictive interval for part c is [109.66 191.8 ] \n"
     ]
    }
   ],
   "source": [
    "# PART C\n",
    "print(f\"The 95% posterior interval for part c is {norm_ci[0,:]}, \"\n",
    "      f\"the 95% predictive interval for part c is {norm_ci[1,:]} \")"
   ]
  },
  {
   "cell_type": "markdown",
   "metadata": {},
   "source": [
    ">**(d) Do the same for n = 100.**"
   ]
  },
  {
   "cell_type": "code",
   "execution_count": 6,
   "metadata": {},
   "outputs": [
    {
     "name": "stdout",
     "output_type": "stream",
     "text": [
      "the 95% posterior interval for part d is [146.16 153.99], and the 95% predictive interval for part d is [110.68 189.47].\n"
     ]
    }
   ],
   "source": [
    "#PART D\n",
    "print(f\"the 95% posterior interval for part d is {norm_ci[2,:]}, and \"\n",
    "      f\"the 95% predictive interval for part d is {norm_ci[3,:]}.\")"
   ]
  },
  {
   "cell_type": "markdown",
   "metadata": {},
   "source": [
    "# Problem 7 (BDA 3rd Ed., Exercise 2.10)\n",
    "\n",
    "Discrete sample spaces: suppose there are N cable cars in San Francisco, numbered\n",
    "sequentially from 1 to N. You see a cable car at random; it is numbered 203. You wish\n",
    "to estimate N. (See Goodman, 1952, for a discussion and references to several versions of\n",
    "this problem, and Jeffreys, 1961, Lee, 1989, and Jaynes, 2003, for Bayesian treatments.)\n"
   ]
  },
  {
   "cell_type": "markdown",
   "metadata": {},
   "source": [
    "(a) Assume your prior distribution on N is geometric with mean 100; that is,\n",
    "\n",
    "\\begin{alignat*}{1}\n",
    "p(N) &= (1/100)(99/100)^{N - 1} , \\text{ for } N = 1, 2,\\dots \\\\\n",
    "\\end{alignat*}\n",
    "\n",
    "What is your posterior distribution for N?\n"
   ]
  },
  {
   "cell_type": "markdown",
   "metadata": {},
   "source": [
    "> (b) What are the posterior mean and standard deviation of N? (Sum the infinite series\n",
    "analytically or approximate them on the computer.) "
   ]
  },
  {
   "cell_type": "code",
   "execution_count": 12,
   "metadata": {
    "scrolled": true
   },
   "outputs": [
    {
     "name": "stdout",
     "output_type": "stream",
     "text": [
      "The Normalizing Constant for the Posterior is 0.00047\n",
      "The Posterior Mean is 279.08851\n",
      "The Posterior Standard Deviation is 79.96458\n"
     ]
    }
   ],
   "source": [
    "### PROBLEM 7 (BDA 3rd. Ed. 2.10)\n",
    "\n",
    "#what we sum from and to\n",
    "values = np.arange(203,10000)\n",
    "\n",
    "#normalizing constant\n",
    "prob_X = sum((1/(values))*(1/100)*(99/100)**(values - 1))\n",
    "print(f\"The Normalizing Constant for the Posterior is {round(prob_X,5)}\")\n",
    "\n",
    "#posterior distribution p(N|X)\n",
    "post = (1/(100*prob_X*values))*(99/100)**(values - 1)\n",
    "\n",
    "#E(N|X), i.e. posterior mean\n",
    "mu_N =  sum(values*post)\n",
    "print(f\"The Posterior Mean is {round(mu_N,5)}\")\n",
    "\n",
    "#Var(N|X) = E(N^2|X)-(E(N|X))^2, i.e. posterior variance\n",
    "sd_N = np.sqrt(sum(((values-mu_N)**2)*post))\n",
    "print(f\"The Posterior Standard Deviation is {round(sd_N,5)}\")"
   ]
  },
  {
   "cell_type": "markdown",
   "metadata": {},
   "source": [
    ">(c) Choose a reasonable ‘noninformative’ prior distribution for N and give the resulting\n",
    "posterior distribution, mean, and standard deviation for N."
   ]
  },
  {
   "cell_type": "code",
   "execution_count": 10,
   "metadata": {},
   "outputs": [
    {
     "name": "stdout",
     "output_type": "stream",
     "text": [
      "The Posterior Mean is 203.93594\n",
      "The Posterior Standard Deviation is 1.33481\n"
     ]
    }
   ],
   "source": [
    "# Part c (Poisson Prior)\n",
    "\n",
    "#q(N|X), unnormalized posterior\n",
    "#put everything in terms of log and exponents so R can handle computation\n",
    "post = np.exp(values*np.log(100)-gammaln(values+1)-100-np.log(values))\n",
    "#p(X)\n",
    "p_X1 = sum(post)\n",
    "#p(N|X)\n",
    "new_post = post/p_X1\n",
    "#E(N|X)\n",
    "mu_N1 =  sum(values*new_post)\n",
    "print(f\"The Posterior Mean is {round(mu_N1,5)}\")\n",
    "\n",
    "#sd(N|X)\n",
    "sd_N1 = np.sqrt(sum((values-mu_N1)**2*new_post))\n",
    "print(f\"The Posterior Standard Deviation is {round(sd_N1,5)}\")"
   ]
  },
  {
   "cell_type": "markdown",
   "metadata": {},
   "source": [
    "### PROBLEM 8 (BDA 3rd Ed., Exercise 2.13)\n",
    "\n",
    "Discrete data: The table below gives the number of fatal accidents and deaths on scheduled\n",
    "airline flights per year over a ten-year period. We use these data as a numerical example\n",
    "for fitting discrete data models."
   ]
  },
  {
   "cell_type": "code",
   "execution_count": 7,
   "metadata": {},
   "outputs": [],
   "source": [
    "### PROBLEM 8 (BDA 3rd Ed. 2.13)\n",
    "\n",
    "### STORES OUR INFORMATION\n",
    "\n",
    "df  = {\n",
    "       'Accidents':np.array([24, 25, 31, 31, 22, 21, 26, 20, 16, 22]),\n",
    "       'Deaths': np.array([734, 516, 754, 877, 814, 362, 764, 809, 223, 1066]),\n",
    "       'Year': np.arange(1,11),\n",
    "       'Death Rate': np.array([0.19, 0.12, 0.15, 0.16, 0.14,\n",
    "                               0.06, 0.13, 0.13, 0.03, 0.15])\n",
    "                   } \n",
    "df = pd.DataFrame(df)\n",
    "\n",
    "#Adds new column of miles flown\n",
    "df['Miles'] = df['Deaths']*1e8 / df['Death Rate']\n",
    "\n",
    "#Prior distribution parameters\n",
    "prior_shape = 0; prior_rate = 0\n",
    "\n",
    "## APPROACH 1: FIND POSTERIOR PREDICTIVE DISTRIBUTION\n",
    "#part a,b, c and d\n",
    "#size parameter for negative binomial\n",
    "sizes =  np.array([df['Accidents'].sum(),df['Accidents'].sum(),\n",
    "                  df['Deaths'].sum(),df['Deaths'].sum()]) + prior_shape\n",
    "    \n",
    "#corresponding probability parameters\n",
    "pr = np.array([df.shape[0]/(df.shape[0]+1+prior_rate),\n",
    "                 df['Miles'].sum()/(df['Miles'].sum()+(8e11)+prior_rate),\n",
    "                 df.shape[0]/(df.shape[0]+1+prior_rate),\n",
    "                 df['Miles'].sum()/(df['Miles'].sum()+(8e11)+prior_rate)])\n",
    "    \n",
    "nbinom_ci = nbinom.ppf([0.025,0.975],n = sizes[:,None], p= pr[:,None]) \n",
    "\n",
    "## APPROACH 2: SAMPLE FROM POSTERIOR, PLUG BACK INTO LIKELIHOOD\n",
    "#Strategy:\n",
    "#(sample from theta|y, plug values  into y|theta, sort from least to greatest)\n",
    "#find 25th and 975th place, these represent endpoints of 95% posterior interval\n",
    "\n",
    "#sample size and quantiles (recall python index starts at 0)\n",
    "N = 1000; q = [24,974]\n",
    "\n",
    "#shape parameter (notice this is also size parameter for negative binomial)\n",
    "a = np.array([df['Accidents'].sum(),df['Accidents'].sum(),\n",
    "                  df['Deaths'].sum(),df['Deaths'].sum()]) + prior_shape\n",
    "#rate parameter\n",
    "b = np.array([1/(df.shape[0]+ prior_rate), 1/(df['Miles'].sum()+ prior_rate),\n",
    "             1/(df.shape[0]+ prior_rate), 1/(df['Miles'].sum()+ prior_rate)]) \n",
    "\n",
    "#miles proportion\n",
    "m  = np.array([1,(8e11),1,(8e11)])\n",
    "\n",
    "#samples from posterior, multiplies by m_j\n",
    "l=[m[j]*gamma.rvs(size=N, a=a[j], scale=b[j]) for j in range(len(a))]\n",
    "#puts samples into likelihood, sorts from least to greatest\n",
    "l = np.array([sorted(poisson.rvs(size=N, mu = l[j])) for j in range(len(a))])\n",
    "post_ci = l[:,q]"
   ]
  },
  {
   "cell_type": "markdown",
   "metadata": {},
   "source": [
    "> (a) Assume that the numbers of fatal accidents in each year are independent with a\n",
    "Poisson($\\theta$) distribution. Set a prior distribution for $\\theta$ and determine the posterior\n",
    "distribution based on the data from 1976 through 1985. Under this model, give a 95\\%\n",
    "predictive interval for the number of fatal accidents in 1986. You can use the normal\n",
    "approximation to the gamma and Poisson or compute using simulation."
   ]
  },
  {
   "cell_type": "code",
   "execution_count": 8,
   "metadata": {},
   "outputs": [
    {
     "name": "stdout",
     "output_type": "stream",
     "text": [
      "The 95% predictive interval for part a using Method 1 is [14. 34.]\n",
      "The 95% predictive interval for part a using Method 2 is [14 34]\n"
     ]
    }
   ],
   "source": [
    "# PART A\n",
    "print(f\"The 95% predictive interval for part a using Method 1 is {nbinom_ci[0,:]}\")\n",
    "print(f\"The 95% predictive interval for part a using Method 2 is {post_ci[0,:]}\")"
   ]
  },
  {
   "cell_type": "markdown",
   "metadata": {},
   "source": [
    ">(b) Assume that the numbers of fatal accidents in each year follow independent Poisson\n",
    "distributions with a constant rate and an exposure in each year proportional to the\n",
    "number of passenger miles flown. Set a prior distribution for $\\theta$ and determine the\n",
    "posterior distribution based on the data for 1976–1985. (Estimate the number of\n",
    "passenger miles flown in each year by dividing the appropriate columns of Table 2.2\n",
    "and ignoring round-off errors.) Give a 95\\% predictive interval for the number of fatal\n",
    "accidents in 1986 under the assumption that $8 \\times 10^{11}$ passenger miles are flown that\n",
    "year."
   ]
  },
  {
   "cell_type": "code",
   "execution_count": 9,
   "metadata": {},
   "outputs": [
    {
     "name": "stdout",
     "output_type": "stream",
     "text": [
      "The 95% predictive interval for part b using Method 1 is [22. 46.]\n",
      "The 95% predictive interval for part b using Method 2 is [22 46]\n"
     ]
    }
   ],
   "source": [
    "# PART B\n",
    "print(f\"The 95% predictive interval for part b using Method 1 is {nbinom_ci[1,:]}\")\n",
    "print(f\"The 95% predictive interval for part b using Method 2 is {post_ci[1,:]}\")"
   ]
  },
  {
   "cell_type": "markdown",
   "metadata": {},
   "source": [
    "> (c) Repeat (a) above, replacing ‘fatal accidents’ with ‘passenger deaths.’"
   ]
  },
  {
   "cell_type": "code",
   "execution_count": 10,
   "metadata": {},
   "outputs": [
    {
     "name": "stdout",
     "output_type": "stream",
     "text": [
      "The 95% predictive interval for part c using Method 1 is [638. 747.]\n",
      "The 95% predictive interval for part c using Method 2 is [639 745]\n"
     ]
    }
   ],
   "source": [
    "# PART C\n",
    "print(f\"The 95% predictive interval for part c using Method 1 is {nbinom_ci[2,:]}\")\n",
    "print(f\"The 95% predictive interval for part c using Method 2 is {post_ci[2,:]}\")"
   ]
  },
  {
   "cell_type": "markdown",
   "metadata": {},
   "source": [
    "> (d) Repeat (b) above, replacing ‘fatal accidents’ with ‘passenger deaths.’"
   ]
  },
  {
   "cell_type": "code",
   "execution_count": 11,
   "metadata": {},
   "outputs": [
    {
     "name": "stdout",
     "output_type": "stream",
     "text": [
      "The 95% predictive interval for part a using Method 1 is [ 904. 1034.]\n",
      "The 95% predictive interval for part a using Method 2 is [ 906 1037]\n"
     ]
    }
   ],
   "source": [
    "#PART D\n",
    "print(f\"The 95% predictive interval for part a using Method 1 is {nbinom_ci[3,:]}\")\n",
    "print(f\"The 95% predictive interval for part a using Method 2 is {post_ci[3,:]}\")"
   ]
  }
 ],
 "metadata": {
  "kernelspec": {
   "display_name": "Python 3 (ipykernel)",
   "language": "python",
   "name": "python3"
  },
  "language_info": {
   "codemirror_mode": {
    "name": "ipython",
    "version": 3
   },
   "file_extension": ".py",
   "mimetype": "text/x-python",
   "name": "python",
   "nbconvert_exporter": "python",
   "pygments_lexer": "ipython3",
   "version": "3.7.4"
  }
 },
 "nbformat": 4,
 "nbformat_minor": 2
}
