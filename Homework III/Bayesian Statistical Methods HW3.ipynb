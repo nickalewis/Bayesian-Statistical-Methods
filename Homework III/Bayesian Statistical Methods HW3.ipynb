{
 "cells": [
  {
   "cell_type": "markdown",
   "id": "3a38464b",
   "metadata": {},
   "source": [
    "# PHP 2530: Bayesian Statistical Methods Homework III"
   ]
  },
  {
   "cell_type": "code",
   "execution_count": 1,
   "id": "10fbb398",
   "metadata": {},
   "outputs": [
    {
     "name": "stderr",
     "output_type": "stream",
     "text": [
      "C:\\Users\\nicka\\AppData\\Local\\Continuum\\anaconda3\\lib\\site-packages\\statsmodels\\tools\\_testing.py:19: FutureWarning: pandas.util.testing is deprecated. Use the functions in the public API at pandas.testing instead.\n",
      "  import pandas.util.testing as tm\n"
     ]
    }
   ],
   "source": [
    "import numpy as np #useful math functions and everything else\n",
    "import pandas as pd #makes dataframes which make problems easier\n",
    "import matplotlib.pyplot as plt #for plotting our histograms and contours\n",
    "import matplotlib.gridspec as gridspec #helps with plotting odd number of plots\n",
    "\n",
    "#lets us use probability distributions like t, beta, gamma,etc.\n",
    "from scipy.stats import norm, gamma, beta, chi2, binom, nbinom\n",
    "from scipy.stats import spearmanr #for our test statistics\n",
    "from statsmodels import api as sm #for our test statistics\n",
    "from scipy.special import gammaln,betaln, boxcox, inv_boxcox # useful\n",
    "from numpy.random import rand #Uniform(0,1). just makes writing more succinc"
   ]
  },
  {
   "cell_type": "code",
   "execution_count": 2,
   "id": "174e0899",
   "metadata": {},
   "outputs": [],
   "source": [
    "#Helpful function to calculate statistics\n",
    "def param_stats(X,p,names,sig):\n",
    "    '''\n",
    "    PARAMETERS:\n",
    "        X - data matrix\n",
    "        p - the quantiles you wish to calculate\n",
    "        names - names you want to give the parameters\n",
    "        sig - number of digits to report\n",
    "    Return:\n",
    "        stats - a datframe detailing statistics about the parameters\n",
    "    '''\n",
    "    import pandas #declare this here in the case that we forget to apriori\n",
    "    #we always specify the mean and standard deviation\n",
    "    stats  = {\n",
    "        'Mean': X.mean(axis=0),\n",
    "        'Standard Deviation': X.std(axis=0,ddof=1)\n",
    "                   } \n",
    "    #add quantile columns\n",
    "    quant_names = [str(100*x) +'%' for x in p]\n",
    "    for x in p: stats[ str(100*x) +'%'] = np.quantile(X,x,axis=0)\n",
    "    \n",
    "    return np.round(pd.DataFrame(stats,index = names),sig)"
   ]
  },
  {
   "cell_type": "markdown",
   "id": "4a31a748",
   "metadata": {},
   "source": [
    "### Problem 1: (BDA 3rd Ed., Exercise 5.2)"
   ]
  },
  {
   "cell_type": "markdown",
   "id": "5732b2a7",
   "metadata": {},
   "source": [
    "> (a) Reproduce the computations in Section 5.5 for the educational testing example. Use\n",
    "the posterior simulations to estimate (i) for each school j, the probability that its\n",
    "coaching program is the best of the eight; and (ii) for each pair of schools, j and k,\n",
    "the probability that the coaching program in school j is better than that in school k."
   ]
  },
  {
   "cell_type": "code",
   "execution_count": 2,
   "id": "e0a71ab2",
   "metadata": {},
   "outputs": [],
   "source": [
    "### PART A\n",
    "school_df  = {\n",
    "       'y': np.array([28,8,-3,7,-1,1,18,12]),\n",
    "       'sd': np.array([15,10,16,11,9,11,10,18])\n",
    "                   } \n",
    "school_df = pd.DataFrame(school_df)\n",
    "#Number of iterations\n",
    "N = 1000\n",
    "#range of tau as described on page 121\n",
    "tau = np.linspace(start = 0.0001, stop = 40, num = N)\n",
    "#best guess of mu\n",
    "mu = np.linspace(start = -30, stop = 30, num = N)\n",
    "\n",
    "#prior for (mu,tau)\n",
    "school_prior = lambda x,y: 1\n",
    "#posterior density for (mu,tau)|y (bottom of page 116)\n",
    "def school_post(data,sd,a,b,prior):\n",
    "    '''\n",
    "    PARAMETERS:\n",
    "    ----------\n",
    "        data - estimated means\n",
    "        sd - accompanying standard deviations\n",
    "        a - gridspace for mu\n",
    "        b - grid space for tau\n",
    "        prior - prior for hyperparameters\n",
    "        \n",
    "    Returns:\n",
    "    -------\n",
    "    logpost: natural logarithm of the unnormalized posterior distribution\n",
    "    '''\n",
    "    \n",
    "    logprior = np.log(prior(a,b))\n",
    "\n",
    "    def loglik(a,b,data,sd):\n",
    "        return -((data - a)**2 / (2*(b**2 + sd**2))) - 0.5*np.log(b**2 + sd**2)    \n",
    "    \n",
    "    \n",
    "    logpost = logprior + sum(loglik(a,b,data[j],sd[j]) for j in range(len(data)) )\n",
    "    return logpost\n",
    "\n",
    "#posterior distribution\n",
    "school = school_post(data=school_df[\"y\"].to_numpy(),\n",
    "                     sd=school_df[\"sd\"].to_numpy(),\n",
    "                     a=mu[:,None],\n",
    "                     b=tau[:,None,None],\n",
    "                     prior = school_prior)\n",
    "\n",
    "school = np.sum(school,axis=2)\n",
    "#subtract to avoid overflow\n",
    "school = np.exp( school - school.max()) \n",
    "#normalize the posterior\n",
    "school = school / school.sum( )\n",
    "\n",
    "#np.repeat repeats the vector; np.tile repeats the entries\n",
    "mu_grid = np.repeat(mu,len(tau))\n",
    "tau_grid = np.tile(tau,len(mu))\n",
    "\n",
    "samples =  np.random.choice(school.size, size=N, p = school.ravel(order=\"F\"))\n",
    "\n",
    "#add some random jitter so the variables are continous random variables\n",
    "\n",
    "#step sizes for our grids\n",
    "d_mu = np.diff(mu)[0]/2\n",
    "d_tau = np.diff(tau)[0]/2\n",
    "\n",
    "mu_y = mu_grid[samples] -d_mu + d_mu*rand(N)\n",
    "tau_y = tau_grid[samples] -d_tau + d_tau*rand(N)"
   ]
  },
  {
   "cell_type": "markdown",
   "id": "5e125fef",
   "metadata": {},
   "source": [
    " ### p($\\tau$ | y) Plot"
   ]
  },
  {
   "cell_type": "code",
   "execution_count": 3,
   "id": "74f87b9f",
   "metadata": {},
   "outputs": [
    {
     "data": {
      "image/png": "[encoded data removed]",
      "text/plain": [
       "<Figure size 432x288 with 1 Axes>"
      ]
     },
     "metadata": {
      "needs_background": "light"
     },
     "output_type": "display_data"
    }
   ],
   "source": [
    "##### REPRODUCING CALCULATIONS IN SECTION 5.5 (FIGURES 5.5-5.7)\n",
    "\n",
    "#Letters for school labels\n",
    "LETTERS = [\"A\",\"B\",\"C\",\"D\",\"E\",\"F\",\"G\",\"H\"]\n",
    "\n",
    "# Tau posterior Plot\n",
    "\n",
    "plt.plot(tau,school.sum(axis=1),color=\"hotpink\")\n",
    "plt.title(r'marginal posterior density $p(\\tau|y)$')\n",
    "plt.xlabel(r'$\\tau$')\n",
    "plt.ylabel(r'$p(\\tau | y)$')\n",
    "plt.show()"
   ]
  },
  {
   "cell_type": "markdown",
   "id": "54a09cda",
   "metadata": {},
   "source": [
    "### E($\\theta_j$ | $\\tau$, y) Plot"
   ]
  },
  {
   "cell_type": "code",
   "execution_count": 4,
   "id": "15b5f936",
   "metadata": {},
   "outputs": [
    {
     "data": {
      "image/png": "[encoded data removed]",
      "text/plain": [
       "<Figure size 504x360 with 1 Axes>"
      ]
     },
     "metadata": {
      "needs_background": "light"
     },
     "output_type": "display_data"
    }
   ],
   "source": [
    "# E(theta_j | tau,y) Plot\n",
    "\n",
    "def expected_tau(x,data,sd):\n",
    "    '''\n",
    "    PARAMETERS:\n",
    "    ----------\n",
    "        x - grid for tau\n",
    "        data - estimated means\n",
    "        sd - accompanying standard deviations\n",
    "    \n",
    "    Returns:\n",
    "    -------\n",
    "    E(theta_j | tau, y) for each school\n",
    "    '''\n",
    "    mu_hat = np.sum(data/(sd**2 + x**2)) / np.sum(1/(sd**2+x**2))\n",
    "    V_tau = 1 / ( (1/x)**2 +  (1/sd)**2)\n",
    "    return  ((mu_hat/ x**2) + (data/ sd**2))*(V_tau)\n",
    "\n",
    "school_mean = expected_tau(x = tau[:,None],\n",
    "                    data = school_df[\"y\"].to_numpy(),\n",
    "                    sd = school_df[\"sd\"].to_numpy() )\n",
    "\n",
    "plt.figure(figsize = (7,5))\n",
    "[plt.plot(tau,school_mean[:,j]) for j in range(school_df.shape[0])]\n",
    "plt.title(r'conditional posterior means of effects '\n",
    "                  r'$\\operatorname{E}(\\theta_j|\\tau,y)$')\n",
    "plt.xlabel(r'$\\tau$')\n",
    "plt.ylabel(r'$\\operatorname{E}(\\theta_j | \\tau, y)$')\n",
    "plt.legend(['School '+ LETTERS[j] for j in range(school_df.shape[0])])\n",
    "plt.show()"
   ]
  },
  {
   "cell_type": "markdown",
   "id": "1a46741d",
   "metadata": {},
   "source": [
    "### sd($\\theta_j$ | $\\tau$, y) Plot"
   ]
  },
  {
   "cell_type": "code",
   "execution_count": 5,
   "id": "d1951237",
   "metadata": {},
   "outputs": [
    {
     "data": {
      "image/png": "[encoded data removed]",
      "text/plain": [
       "<Figure size 504x360 with 1 Axes>"
      ]
     },
     "metadata": {
      "needs_background": "light"
     },
     "output_type": "display_data"
    }
   ],
   "source": [
    "# sd(theta_j | tau,y) Plot\n",
    "\n",
    "def sd_tau(x,data,sd):\n",
    "    '''\n",
    "    PARAMETERS:\n",
    "    ----------\n",
    "        x - grid for tau\n",
    "        data - estimated means\n",
    "        sd - accompanying standard deviations\n",
    "    \n",
    "    Returns:\n",
    "    -------\n",
    "    sd(theta_j | tau,y) for each school\n",
    "    '''\n",
    "    mu_hat = 1 / np.sum(1/(sd**2+x**2))\n",
    "    V = 1 / ( (1/x)**2 +  (1/sd)**2)\n",
    "    V_tau = (1/x)**2 / ( (1/x)**2 +  (1/sd)**2)\n",
    "    return  np.sqrt(V + mu_hat*V_tau**2)\n",
    "\n",
    "school_sd = sd_tau(x = tau[:,None],\n",
    "                    data = school_df[\"y\"].to_numpy(),\n",
    "                    sd = school_df[\"sd\"].to_numpy() )\n",
    "\n",
    "#add little jitter so these are visible\n",
    "school_sd[:,6] = school_sd[:,6] + 75*np.diff(school_sd[:,6])[0]\n",
    "school_sd[:,5] = school_sd[:,5] + 75*np.diff(school_sd[:,5])[0]\n",
    "\n",
    "plt.figure(figsize = (7,5))\n",
    "[plt.plot(tau,school_sd[:,j]) for j in range(school_df.shape[0])]\n",
    "plt.title(r'standard deviations of effects '\n",
    "                  r'$\\operatorname{sd}(\\theta_j|\\tau,y)$')\n",
    "plt.xlabel(r'$\\tau$')\n",
    "plt.ylabel( r'$\\operatorname{sd}(\\theta_j | \\tau, y)$')\n",
    "plt.legend(['School '+ LETTERS[j] for j in range(school_df.shape[0])])\n",
    "plt.show()"
   ]
  },
  {
   "cell_type": "code",
   "execution_count": 6,
   "id": "9fc2fcc9",
   "metadata": {},
   "outputs": [],
   "source": [
    "#new updates mu and tau based on posterior draws  \n",
    "def theta_post(x,y,data,sd):\n",
    "    '''\n",
    "    PARAMETERS:\n",
    "        x - posterior draws for mu\n",
    "        y - posterior draws for tau\n",
    "        data - estimated means\n",
    "        sd - accompanying standard deviations\n",
    "    \n",
    "    Returns:\n",
    "    -------\n",
    "    Posterior draws theta_j | tau, mu, y for each school\n",
    "    '''\n",
    "    V = np.sqrt(1 / ( (1/y)**2 + (1/sd)**2 ) )\n",
    "    theta_hat = ((x/ y**2) + (data/ sd**2))*(V**2)\n",
    "    return norm.rvs(loc = theta_hat, scale = V)\n",
    "\n",
    "#use updates to now make informed draws of theta_j\n",
    "thetas = theta_post(x = mu_y[:,None], \n",
    "                    y = tau_y[:,None],\n",
    "                    data = school_df[\"y\"].to_numpy(),\n",
    "                    sd = school_df[\"sd\"].to_numpy() )"
   ]
  },
  {
   "cell_type": "markdown",
   "id": "7718bf99",
   "metadata": {},
   "source": [
    "Probability of School $\\theta_j$ being better than school $\\theta_k$"
   ]
  },
  {
   "cell_type": "code",
   "execution_count": 9,
   "id": "99ae329c",
   "metadata": {},
   "outputs": [
    {
     "data": {
      "text/html": [
       "<div>\n",
       "<style scoped>\n",
       "    .dataframe tbody tr th:only-of-type {\n",
       "        vertical-align: middle;\n",
       "    }\n",
       "\n",
       "    .dataframe tbody tr th {\n",
       "        vertical-align: top;\n",
       "    }\n",
       "\n",
       "    .dataframe thead th {\n",
       "        text-align: right;\n",
       "    }\n",
       "</style>\n",
       "<table border=\"1\" class=\"dataframe\">\n",
       "  <thead>\n",
       "    <tr style=\"text-align: right;\">\n",
       "      <th></th>\n",
       "      <th>A</th>\n",
       "      <th>B</th>\n",
       "      <th>C</th>\n",
       "      <th>D</th>\n",
       "      <th>E</th>\n",
       "      <th>F</th>\n",
       "      <th>G</th>\n",
       "      <th>H</th>\n",
       "    </tr>\n",
       "  </thead>\n",
       "  <tbody>\n",
       "    <tr>\n",
       "      <th>A</th>\n",
       "      <td>0.000</td>\n",
       "      <td>0.656</td>\n",
       "      <td>0.687</td>\n",
       "      <td>0.652</td>\n",
       "      <td>0.744</td>\n",
       "      <td>0.698</td>\n",
       "      <td>0.548</td>\n",
       "      <td>0.628</td>\n",
       "    </tr>\n",
       "    <tr>\n",
       "      <th>B</th>\n",
       "      <td>0.344</td>\n",
       "      <td>0.000</td>\n",
       "      <td>0.583</td>\n",
       "      <td>0.530</td>\n",
       "      <td>0.631</td>\n",
       "      <td>0.596</td>\n",
       "      <td>0.377</td>\n",
       "      <td>0.480</td>\n",
       "    </tr>\n",
       "    <tr>\n",
       "      <th>C</th>\n",
       "      <td>0.313</td>\n",
       "      <td>0.417</td>\n",
       "      <td>0.000</td>\n",
       "      <td>0.431</td>\n",
       "      <td>0.541</td>\n",
       "      <td>0.498</td>\n",
       "      <td>0.319</td>\n",
       "      <td>0.419</td>\n",
       "    </tr>\n",
       "    <tr>\n",
       "      <th>D</th>\n",
       "      <td>0.348</td>\n",
       "      <td>0.470</td>\n",
       "      <td>0.569</td>\n",
       "      <td>0.000</td>\n",
       "      <td>0.609</td>\n",
       "      <td>0.577</td>\n",
       "      <td>0.376</td>\n",
       "      <td>0.474</td>\n",
       "    </tr>\n",
       "    <tr>\n",
       "      <th>E</th>\n",
       "      <td>0.256</td>\n",
       "      <td>0.369</td>\n",
       "      <td>0.459</td>\n",
       "      <td>0.391</td>\n",
       "      <td>0.000</td>\n",
       "      <td>0.454</td>\n",
       "      <td>0.279</td>\n",
       "      <td>0.392</td>\n",
       "    </tr>\n",
       "    <tr>\n",
       "      <th>F</th>\n",
       "      <td>0.302</td>\n",
       "      <td>0.404</td>\n",
       "      <td>0.502</td>\n",
       "      <td>0.423</td>\n",
       "      <td>0.546</td>\n",
       "      <td>0.000</td>\n",
       "      <td>0.313</td>\n",
       "      <td>0.433</td>\n",
       "    </tr>\n",
       "    <tr>\n",
       "      <th>G</th>\n",
       "      <td>0.452</td>\n",
       "      <td>0.623</td>\n",
       "      <td>0.681</td>\n",
       "      <td>0.624</td>\n",
       "      <td>0.721</td>\n",
       "      <td>0.687</td>\n",
       "      <td>0.000</td>\n",
       "      <td>0.591</td>\n",
       "    </tr>\n",
       "    <tr>\n",
       "      <th>H</th>\n",
       "      <td>0.372</td>\n",
       "      <td>0.520</td>\n",
       "      <td>0.581</td>\n",
       "      <td>0.526</td>\n",
       "      <td>0.608</td>\n",
       "      <td>0.567</td>\n",
       "      <td>0.409</td>\n",
       "      <td>0.000</td>\n",
       "    </tr>\n",
       "  </tbody>\n",
       "</table>\n",
       "</div>"
      ],
      "text/plain": [
       "       A      B      C      D      E      F      G      H\n",
       "A  0.000  0.656  0.687  0.652  0.744  0.698  0.548  0.628\n",
       "B  0.344  0.000  0.583  0.530  0.631  0.596  0.377  0.480\n",
       "C  0.313  0.417  0.000  0.431  0.541  0.498  0.319  0.419\n",
       "D  0.348  0.470  0.569  0.000  0.609  0.577  0.376  0.474\n",
       "E  0.256  0.369  0.459  0.391  0.000  0.454  0.279  0.392\n",
       "F  0.302  0.404  0.502  0.423  0.546  0.000  0.313  0.433\n",
       "G  0.452  0.623  0.681  0.624  0.721  0.687  0.000  0.591\n",
       "H  0.372  0.520  0.581  0.526  0.608  0.567  0.409  0.000"
      ]
     },
     "execution_count": 9,
     "metadata": {},
     "output_type": "execute_result"
    }
   ],
   "source": [
    "#nicer way to write our probability matrix\n",
    "Probs = np.array([np.mean(thetas[:,i] > thetas[:,j]) for \n",
    "                 i in range(school_df.shape[0]) for j in range(school_df.shape[0])])\n",
    "\n",
    "#turns array into matrix and turns it into dataframe\n",
    "Probs = pd.DataFrame(Probs.reshape(school_df.shape[0],school_df.shape[0]), \n",
    "                             index = LETTERS,\n",
    "                             columns = LETTERS )\n",
    "Probs"
   ]
  },
  {
   "cell_type": "markdown",
   "id": "3b9797d0",
   "metadata": {},
   "source": [
    "Proabability of School $\\theta_k$ being the best"
   ]
  },
  {
   "cell_type": "code",
   "execution_count": 7,
   "id": "30b3f82c",
   "metadata": {},
   "outputs": [
    {
     "data": {
      "text/html": [
       "<div>\n",
       "<style scoped>\n",
       "    .dataframe tbody tr th:only-of-type {\n",
       "        vertical-align: middle;\n",
       "    }\n",
       "\n",
       "    .dataframe tbody tr th {\n",
       "        vertical-align: top;\n",
       "    }\n",
       "\n",
       "    .dataframe thead th {\n",
       "        text-align: right;\n",
       "    }\n",
       "</style>\n",
       "<table border=\"1\" class=\"dataframe\">\n",
       "  <thead>\n",
       "    <tr style=\"text-align: right;\">\n",
       "      <th></th>\n",
       "      <th>Probability of Being Best School</th>\n",
       "    </tr>\n",
       "  </thead>\n",
       "  <tbody>\n",
       "    <tr>\n",
       "      <th>A</th>\n",
       "      <td>0.267</td>\n",
       "    </tr>\n",
       "    <tr>\n",
       "      <th>B</th>\n",
       "      <td>0.096</td>\n",
       "    </tr>\n",
       "    <tr>\n",
       "      <th>C</th>\n",
       "      <td>0.071</td>\n",
       "    </tr>\n",
       "    <tr>\n",
       "      <th>D</th>\n",
       "      <td>0.105</td>\n",
       "    </tr>\n",
       "    <tr>\n",
       "      <th>E</th>\n",
       "      <td>0.061</td>\n",
       "    </tr>\n",
       "    <tr>\n",
       "      <th>F</th>\n",
       "      <td>0.077</td>\n",
       "    </tr>\n",
       "    <tr>\n",
       "      <th>G</th>\n",
       "      <td>0.201</td>\n",
       "    </tr>\n",
       "    <tr>\n",
       "      <th>H</th>\n",
       "      <td>0.122</td>\n",
       "    </tr>\n",
       "  </tbody>\n",
       "</table>\n",
       "</div>"
      ],
      "text/plain": [
       "   Probability of Being Best School\n",
       "A                             0.267\n",
       "B                             0.096\n",
       "C                             0.071\n",
       "D                             0.105\n",
       "E                             0.061\n",
       "F                             0.077\n",
       "G                             0.201\n",
       "H                             0.122"
      ]
     },
     "execution_count": 7,
     "metadata": {},
     "output_type": "execute_result"
    }
   ],
   "source": [
    "#smoother way to write our for loop for the best probability calculation\n",
    "Best = [np.mean(thetas[:,i] == thetas.max(axis=1)) for i in range(school_df.shape[0])]\n",
    "Best = pd.DataFrame(Best, index = LETTERS)\n",
    "Best.columns = [\"Probability of Being Best School\"]\n",
    "\n",
    "Best"
   ]
  },
  {
   "cell_type": "markdown",
   "id": "f933747d",
   "metadata": {},
   "source": [
    "> (b) Repeat (a), but for the simpler model with $\\tau$ set to $\\infty$ (that is, separate estimation\n",
    "for the eight schools). In this case, the probabilities (ii) can be computed analytically."
   ]
  },
  {
   "cell_type": "markdown",
   "id": "2733346e",
   "metadata": {},
   "source": [
    "Probability of School $\\theta_j$ being better than school $\\theta_k$"
   ]
  },
  {
   "cell_type": "code",
   "execution_count": 10,
   "id": "a63d5ddf",
   "metadata": {},
   "outputs": [
    {
     "data": {
      "text/html": [
       "<div>\n",
       "<style scoped>\n",
       "    .dataframe tbody tr th:only-of-type {\n",
       "        vertical-align: middle;\n",
       "    }\n",
       "\n",
       "    .dataframe tbody tr th {\n",
       "        vertical-align: top;\n",
       "    }\n",
       "\n",
       "    .dataframe thead th {\n",
       "        text-align: right;\n",
       "    }\n",
       "</style>\n",
       "<table border=\"1\" class=\"dataframe\">\n",
       "  <thead>\n",
       "    <tr style=\"text-align: right;\">\n",
       "      <th></th>\n",
       "      <th>A</th>\n",
       "      <th>B</th>\n",
       "      <th>C</th>\n",
       "      <th>D</th>\n",
       "      <th>E</th>\n",
       "      <th>F</th>\n",
       "      <th>G</th>\n",
       "      <th>H</th>\n",
       "    </tr>\n",
       "  </thead>\n",
       "  <tbody>\n",
       "    <tr>\n",
       "      <th>A</th>\n",
       "      <td>0.000</td>\n",
       "      <td>0.850</td>\n",
       "      <td>0.916</td>\n",
       "      <td>0.850</td>\n",
       "      <td>0.946</td>\n",
       "      <td>0.924</td>\n",
       "      <td>0.699</td>\n",
       "      <td>0.761</td>\n",
       "    </tr>\n",
       "    <tr>\n",
       "      <th>B</th>\n",
       "      <td>0.150</td>\n",
       "      <td>0.000</td>\n",
       "      <td>0.712</td>\n",
       "      <td>0.509</td>\n",
       "      <td>0.765</td>\n",
       "      <td>0.680</td>\n",
       "      <td>0.248</td>\n",
       "      <td>0.434</td>\n",
       "    </tr>\n",
       "    <tr>\n",
       "      <th>C</th>\n",
       "      <td>0.084</td>\n",
       "      <td>0.288</td>\n",
       "      <td>0.000</td>\n",
       "      <td>0.282</td>\n",
       "      <td>0.445</td>\n",
       "      <td>0.431</td>\n",
       "      <td>0.136</td>\n",
       "      <td>0.287</td>\n",
       "    </tr>\n",
       "    <tr>\n",
       "      <th>D</th>\n",
       "      <td>0.150</td>\n",
       "      <td>0.491</td>\n",
       "      <td>0.718</td>\n",
       "      <td>0.000</td>\n",
       "      <td>0.741</td>\n",
       "      <td>0.669</td>\n",
       "      <td>0.250</td>\n",
       "      <td>0.447</td>\n",
       "    </tr>\n",
       "    <tr>\n",
       "      <th>E</th>\n",
       "      <td>0.054</td>\n",
       "      <td>0.235</td>\n",
       "      <td>0.555</td>\n",
       "      <td>0.259</td>\n",
       "      <td>0.000</td>\n",
       "      <td>0.440</td>\n",
       "      <td>0.069</td>\n",
       "      <td>0.269</td>\n",
       "    </tr>\n",
       "    <tr>\n",
       "      <th>F</th>\n",
       "      <td>0.076</td>\n",
       "      <td>0.320</td>\n",
       "      <td>0.569</td>\n",
       "      <td>0.331</td>\n",
       "      <td>0.560</td>\n",
       "      <td>0.000</td>\n",
       "      <td>0.129</td>\n",
       "      <td>0.312</td>\n",
       "    </tr>\n",
       "    <tr>\n",
       "      <th>G</th>\n",
       "      <td>0.301</td>\n",
       "      <td>0.752</td>\n",
       "      <td>0.864</td>\n",
       "      <td>0.750</td>\n",
       "      <td>0.931</td>\n",
       "      <td>0.871</td>\n",
       "      <td>0.000</td>\n",
       "      <td>0.638</td>\n",
       "    </tr>\n",
       "    <tr>\n",
       "      <th>H</th>\n",
       "      <td>0.239</td>\n",
       "      <td>0.566</td>\n",
       "      <td>0.713</td>\n",
       "      <td>0.553</td>\n",
       "      <td>0.731</td>\n",
       "      <td>0.688</td>\n",
       "      <td>0.362</td>\n",
       "      <td>0.000</td>\n",
       "    </tr>\n",
       "  </tbody>\n",
       "</table>\n",
       "</div>"
      ],
      "text/plain": [
       "       A      B      C      D      E      F      G      H\n",
       "A  0.000  0.850  0.916  0.850  0.946  0.924  0.699  0.761\n",
       "B  0.150  0.000  0.712  0.509  0.765  0.680  0.248  0.434\n",
       "C  0.084  0.288  0.000  0.282  0.445  0.431  0.136  0.287\n",
       "D  0.150  0.491  0.718  0.000  0.741  0.669  0.250  0.447\n",
       "E  0.054  0.235  0.555  0.259  0.000  0.440  0.069  0.269\n",
       "F  0.076  0.320  0.569  0.331  0.560  0.000  0.129  0.312\n",
       "G  0.301  0.752  0.864  0.750  0.931  0.871  0.000  0.638\n",
       "H  0.239  0.566  0.713  0.553  0.731  0.688  0.362  0.000"
      ]
     },
     "execution_count": 10,
     "metadata": {},
     "output_type": "execute_result"
    }
   ],
   "source": [
    "#PART B\n",
    "theta_inf = norm.rvs(loc = school_df['y'].to_numpy(), \n",
    "                     scale = school_df['sd'].to_numpy(), \n",
    "                     size = (N,school_df.shape[0]))\n",
    "\n",
    "#nicer way to write our probability matrix\n",
    "Probs_inf = np.array([np.mean(theta_inf[:,i] > theta_inf[:,j]) for \n",
    "                 i in range(school_df.shape[0]) for j in range(school_df.shape[0])])\n",
    "\n",
    "#turns array into matrix and turns it into dataframe\n",
    "Probs_inf = pd.DataFrame(Probs_inf.reshape(school_df.shape[0],school_df.shape[0]), \n",
    "                             index = LETTERS,\n",
    "                             columns = LETTERS )\n",
    "Probs_inf"
   ]
  },
  {
   "cell_type": "markdown",
   "id": "064536fe",
   "metadata": {},
   "source": [
    "Probability of School $\\theta_k$ being the best."
   ]
  },
  {
   "cell_type": "code",
   "execution_count": 11,
   "id": "f104ad7b",
   "metadata": {},
   "outputs": [
    {
     "data": {
      "text/html": [
       "<div>\n",
       "<style scoped>\n",
       "    .dataframe tbody tr th:only-of-type {\n",
       "        vertical-align: middle;\n",
       "    }\n",
       "\n",
       "    .dataframe tbody tr th {\n",
       "        vertical-align: top;\n",
       "    }\n",
       "\n",
       "    .dataframe thead th {\n",
       "        text-align: right;\n",
       "    }\n",
       "</style>\n",
       "<table border=\"1\" class=\"dataframe\">\n",
       "  <thead>\n",
       "    <tr style=\"text-align: right;\">\n",
       "      <th></th>\n",
       "      <th>Probability of Being Best School</th>\n",
       "    </tr>\n",
       "  </thead>\n",
       "  <tbody>\n",
       "    <tr>\n",
       "      <th>A</th>\n",
       "      <td>0.540</td>\n",
       "    </tr>\n",
       "    <tr>\n",
       "      <th>B</th>\n",
       "      <td>0.038</td>\n",
       "    </tr>\n",
       "    <tr>\n",
       "      <th>C</th>\n",
       "      <td>0.030</td>\n",
       "    </tr>\n",
       "    <tr>\n",
       "      <th>D</th>\n",
       "      <td>0.036</td>\n",
       "    </tr>\n",
       "    <tr>\n",
       "      <th>E</th>\n",
       "      <td>0.002</td>\n",
       "    </tr>\n",
       "    <tr>\n",
       "      <th>F</th>\n",
       "      <td>0.016</td>\n",
       "    </tr>\n",
       "    <tr>\n",
       "      <th>G</th>\n",
       "      <td>0.188</td>\n",
       "    </tr>\n",
       "    <tr>\n",
       "      <th>H</th>\n",
       "      <td>0.150</td>\n",
       "    </tr>\n",
       "  </tbody>\n",
       "</table>\n",
       "</div>"
      ],
      "text/plain": [
       "   Probability of Being Best School\n",
       "A                             0.540\n",
       "B                             0.038\n",
       "C                             0.030\n",
       "D                             0.036\n",
       "E                             0.002\n",
       "F                             0.016\n",
       "G                             0.188\n",
       "H                             0.150"
      ]
     },
     "execution_count": 11,
     "metadata": {},
     "output_type": "execute_result"
    }
   ],
   "source": [
    "#PART B\n",
    "#nicer way to write our for loop and calculate probability of being best school\n",
    "Best_inf = [np.mean(theta_inf[:,i] == theta_inf.max(axis=1)) \n",
    "            for i in range(school_df.shape[0])]\n",
    "\n",
    "Best_inf = pd.DataFrame(Best_inf, index = LETTERS)\n",
    "Best_inf.columns = [\"Probability of Being Best School\"]\n",
    "\n",
    "Best_inf"
   ]
  },
  {
   "cell_type": "markdown",
   "id": "dd60c708",
   "metadata": {},
   "source": [
    "### Problem 4 (BDA 3rd Ed. Exercise 5.14)\n",
    "Hierarchical Poisson model: consider the dataset in the previous problem, but suppose\n",
    "only the total amount of traffic at each location is observed."
   ]
  },
  {
   "cell_type": "markdown",
   "id": "70013a1f",
   "metadata": {},
   "source": [
    "> (b) Compute the marginal posterior density of the hyperparameters and plot its contours. Simulate random draws from the posterior distribution of the hyperparameters and make a scatterplot of the simulation draws."
   ]
  },
  {
   "cell_type": "code",
   "execution_count": 3,
   "id": "2a297d9e",
   "metadata": {},
   "outputs": [
    {
     "data": {
      "image/png": "[encoded data removed]",
      "text/plain": [
       "<Figure size 720x360 with 2 Axes>"
      ]
     },
     "metadata": {
      "needs_background": "light"
     },
     "output_type": "display_data"
    }
   ],
   "source": [
    "### PROBLEM 4 (BDA 3rd Ed. Exercise 5.14)\n",
    "\n",
    "# number of vehicles on residential street with bike lane\n",
    "#y-bikes for streets w/ bike lanes;v- vehicles for streets w/ bike lanes\n",
    "\n",
    "res_df = {\n",
    "       'bikes': np.array([16, 9, 10, 13,19, 20, 18, 17,35, 55]),\n",
    "       'vehicles': np.array([58,90, 48, 57, 103, 57, 86,112, 273, 64])\n",
    "                   } \n",
    "\n",
    "res_df = pd.DataFrame(res_df)\n",
    "res_df['total'] = res_df['bikes'] + res_df['vehicles']\n",
    "\n",
    "#Grid for sampling\n",
    "R = 1000\n",
    "alpha = np.linspace(start = 0.0001, stop = 17, num = R)\n",
    "betas = np.linspace(start = 0.0001, stop = 0.6, num = R)\n",
    "\n",
    "street_prior = lambda x,y : (x+y)**(-5/2)\n",
    "#Posterior Function. It is of form seen in derivation\n",
    "def vehicle_post(v,a,b,prior):\n",
    "    '''\n",
    "    PARAMETERS:\n",
    "    ----------\n",
    "    v - data on number of vehicles on residential street \n",
    "    a - alpha parameter\n",
    "    b - beta parameter\n",
    "    prior - prior on alpha, beta\n",
    "    Returns:\n",
    "    -------\n",
    "    logpost : natural logarithm of unnormalized posterior density\n",
    "    '''\n",
    "    #prior distribution used for this problem\n",
    "    logprior = np.log(prior(a,b))\n",
    "\n",
    "    # for brevity, split the likelihood into a numerator term and denominator\n",
    "    def loglik(a,b,v):\n",
    "     l = gammaln(a+v) + a*np.log(b) - ( gammaln(a) + gammaln(v+1) \n",
    "                                                + (v+a)*np.log(1+b) )\n",
    "     return l\n",
    "\n",
    "    logpost = logprior + sum(loglik(a,b,v[j]) for j in range(len(v)) )\n",
    "    return logpost\n",
    "\n",
    "posty = vehicle_post(v=res_df['total'].to_numpy(), \n",
    "                     a = alpha[:,None], \n",
    "                     b= betas[:,None,None],\n",
    "                     prior = street_prior)\n",
    "\n",
    "posty = posty.sum(axis=2)\n",
    "#subtract to avoid overflow\n",
    "posty = np.exp( posty - posty.max()) \n",
    "#normalize the posterior\n",
    "posty = posty / posty.sum( )\n",
    "\n",
    "#np.repeat repeats the vector; np.tile repeats the entries\n",
    "alpha_grid = np.repeat(alpha,len(betas))\n",
    "beta_grid = np.tile(betas,len(alpha))\n",
    "\n",
    "#posterior draw indices\n",
    "samples = np.random.choice(posty.size, size=R, p = posty.ravel(order=\"F\"))\n",
    "\n",
    "#step sizes for random jitter\n",
    "d_alpha = np.diff(alpha)[0]/2\n",
    "d_beta = np.diff(betas)[0]/2\n",
    "\n",
    "#add some random jitter so the variables are continous random variables\n",
    "alpha_post = alpha_grid[samples] - d_alpha + d_alpha*rand(R)\n",
    "beta_post = beta_grid[samples] - d_beta + d_beta*rand(R)\n",
    "\n",
    "#plots contours and simulated points\n",
    "\n",
    "fig, (ax1,ax2) = plt.subplots(1, 2,figsize=(10,5))\n",
    "\n",
    "ax = [ax1,ax2]\n",
    "\n",
    "#contour levels for posterior\n",
    "\n",
    "lev = [ 0.001, 0.01,.025,0.05,0.25,0.50,0.75,0.90,0.95]\n",
    "cont = np.quantile(np.linspace(posty.min(),posty.max(),10000),lev)\n",
    "\n",
    "for j in range(2):\n",
    "    ax[j].contour(alpha, betas, posty,levels=cont,colors='red')\n",
    "    ax2.scatter(alpha_post,beta_post,zorder=1)\n",
    "    ax[j].set_ylim(0,0.23)\n",
    "    ax[j].set_ylabel(r'$\\beta$')\n",
    "    ax[j].set_xlim(0,20)\n",
    "    ax[j].set_xlabel(r'$\\alpha$')\n",
    "fig.suptitle(r'Posterior Distribution of p($\\alpha$, $\\beta$ | y)', y = 1.05,fontsize=20)\n",
    "fig.tight_layout()"
   ]
  },
  {
   "cell_type": "markdown",
   "id": "4ffec3b1",
   "metadata": {},
   "source": [
    "> (e) Draw samples from the joint posterior distribution of the parameters and hyperparameters, by analogy to the method used in the hierarchical binomial model"
   ]
  },
  {
   "cell_type": "code",
   "execution_count": 12,
   "id": "6f747e98",
   "metadata": {},
   "outputs": [
    {
     "name": "stdout",
     "output_type": "stream",
     "text": [
      "        Mean  Standard Deviation     2.5%      25%      50%      75%    97.5%\n",
      "α      3.794               1.842    1.150    2.433    3.464    4.847    8.246\n",
      "β      0.034               0.017    0.011    0.021    0.031    0.043    0.074\n",
      "θ1    75.516               8.780   58.566   69.784   75.156   81.053   93.761\n",
      "θ2    98.890               9.397   81.864   92.525   98.486  104.909  119.330\n",
      "θ3    59.563               7.852   44.574   54.008   59.433   64.683   75.962\n",
      "θ4    71.243               8.140   55.701   65.589   71.250   76.825   87.402\n",
      "θ5   121.967              10.670  102.135  114.715  121.897  128.622  142.892\n",
      "θ6    77.809               8.570   61.846   72.023   77.481   83.490   96.192\n",
      "θ7   103.862              10.124   85.823   96.995  103.155  110.491  125.532\n",
      "θ8   128.919              11.127  108.423  121.238  128.454  136.620  150.904\n",
      "θ9   301.131              17.349  268.718  288.731  301.314  312.865  334.768\n",
      "θ10  118.564              11.023   97.978  111.008  118.649  125.943  141.374\n"
     ]
    }
   ],
   "source": [
    "# Draw posterior values of the theta_j's\n",
    "\n",
    "#this will hold ALL OF OUR samples\n",
    "thetas = gamma.rvs(a = alpha_post[:,None] + res_df['total'].to_numpy(),\n",
    "                   scale = 1/(beta_post[:,None] + 1),\n",
    "                  size = (R,10))\n",
    "\n",
    "#concatenate our hyperparameters and parameters together\n",
    "param = np.hstack((alpha_post.reshape(R,1),beta_post.reshape(R,1),thetas))\n",
    "\n",
    "param_names = np.concatenate([ ['\\u03B1','\\u03B2'],\n",
    "                        ['\\u03B8'+str(j) for j in range(1,res_df.shape[0]+1)]])\n",
    "\n",
    "#The posterior distributions of each theta_j.\n",
    "vehicle_stats  = {\n",
    "        'Mean': param.mean(axis=0),\n",
    "        'Standard Deviation': param.std(axis=0,ddof=1),\n",
    "        '2.5%': np.percentile(param,2.5,axis=0),\n",
    "        '25%': np.percentile(param,25.0,axis=0),\n",
    "        '50%': np.percentile(param,50.0,axis=0),\n",
    "        '75%': np.percentile(param,75.0,axis=0),\n",
    "        '97.5%': np.percentile(param,97.5,axis=0)\n",
    "                   } \n",
    "\n",
    "vehicle_stats = np.round(pd.DataFrame(vehicle_stats,index=param_names),3)\n",
    "pd.set_option(\"display.max_columns\", 7)\n",
    "print(vehicle_stats)"
   ]
  },
  {
   "cell_type": "markdown",
   "id": "0f025a17",
   "metadata": {},
   "source": [
    "### Problem 5: (BDA 3rd Ed., Exercise 6.2)\n",
    " Model checking: in Exercise 2.13, the counts of airline fatalities in 1976–1985 were fitted\n",
    "to four different Poisson models."
   ]
  },
  {
   "cell_type": "markdown",
   "id": "a8fb8054",
   "metadata": {},
   "source": [
    "> (a)  For each of the models, set up posterior predictive test quantities to check the following\n",
    "assumptions: (1) independent Poisson distributions, (2) no trend over time."
   ]
  },
  {
   "cell_type": "markdown",
   "id": "a6e22828",
   "metadata": {},
   "source": [
    "To test (1) Independent Poisson Distributions, we use the 1st lag of the autocorrelations.\n",
    "\\begin{alignat*}{1}\n",
    "acf(x)_k &= \\frac{\\sum^{n-k}_{t=1} y_t y_{t+k}}{\\sum^{n}_{t=1}y_t}\\\\\n",
    "\\end{alignat*}\n",
    "\n",
    "To test (2) No Trend over time we use spearman correlations\n",
    "\n",
    "\\begin{alignat*}{1}\n",
    "r_s = corr(r_X,r_Y) = \\frac{Cov(r_X,r_Y)}{sd(r_X)sd(r_Y)}\\\\\n",
    "=\\frac{\\sum^{n-k}_{t=1} (r_{t,X} - \\bar r_X)(r_{t,Y} - \\bar r_Y)}{\\sqrt{\\sum^{n}_{t=1} (r_{t,X} - \\bar r_X)^2} \\sqrt{\\sum^{n}_{t=1} (r_{t,Y} - \\bar r_Y)^2}}\\\\\n",
    "\\end{alignat*}"
   ]
  },
  {
   "cell_type": "markdown",
   "id": "6f3dabaa",
   "metadata": {},
   "source": [
    "(b) For each of the models, use simulations from the posterior predictive distributions to\n",
    "measure the discrepancies. Display the discrepancies graphically and give p-values."
   ]
  },
  {
   "cell_type": "code",
   "execution_count": 12,
   "id": "4d1064ab",
   "metadata": {},
   "outputs": [],
   "source": [
    "#Problem 5 (BDA 3rd. Ed. Exercise 6.2)\n",
    "#number of fatal accidents between 1976-1985\n",
    "\n",
    "### STORES OUR INFORMATION\n",
    "\n",
    "df  = {\n",
    "       'Accidents':np.array([24, 25, 31, 31, 22, 21, 26, 20, 16, 22]),\n",
    "       'Deaths': np.array([734, 516, 754, 877, 814, 362, 764, 809, 223, 1066]),\n",
    "       'Year': np.arange(1,11),\n",
    "       'Death Rate': np.array([0.19, 0.12, 0.15, 0.16, 0.14,\n",
    "                               0.06, 0.13, 0.13, 0.03, 0.15])\n",
    "                   } \n",
    "df = pd.DataFrame(df)\n",
    "\n",
    "#Adds new column of miles flown\n",
    "df['Miles'] = df['Deaths']*1e8 / df['Death Rate']\n",
    "\n",
    "#Model 1\n",
    "#number of simulations for our posterior predictive check\n",
    "N6 = 1000\n",
    "\n",
    "#prior parameters\n",
    "prior_shape = 0; prior_rate = 0\n",
    "\n",
    "#size parameters for negative binomials\n",
    "\n",
    "sizes =  np.array([df['Accidents'].sum(),df['Deaths'].sum()]) + prior_shape\n",
    "    \n",
    "#corresponding probability parameters\n",
    "probs1 = np.repeat(df.shape[0]/(df.shape[0]+1+prior_rate),10)\n",
    "probs2 = df['Miles'].sum()/(df['Miles'].sum()+np.asarray(df['Miles'])+prior_rate)\n",
    "    \n",
    "Model1_draws = nbinom.rvs(size=(N6,10),n = sizes[0], p= probs1)\n",
    "Model2_draws = nbinom.rvs(size=(N6,10),n = sizes[0], p= probs2) \n",
    "Model3_draws = nbinom.rvs(size=(N6,10),n = sizes[1], p= probs1) \n",
    "Model4_draws = nbinom.rvs(size=(N6,10),n = sizes[1], p= probs2) "
   ]
  },
  {
   "cell_type": "markdown",
   "id": "04b1f98a",
   "metadata": {},
   "source": [
    "(1) Independent Poisson Distributions "
   ]
  },
  {
   "cell_type": "code",
   "execution_count": 13,
   "id": "ac0ee5fe",
   "metadata": {},
   "outputs": [
    {
     "data": {
      "image/png": "[encoded data removed]",
      "text/plain": [
       "<Figure size 720x576 with 4 Axes>"
      ]
     },
     "metadata": {
      "needs_background": "light"
     },
     "output_type": "display_data"
    }
   ],
   "source": [
    "# (1) Independent Observations (Autocorrelations)\n",
    "\n",
    "#Replications\n",
    "Model1_Stat1 = np.array([sm.tsa.acf(Model1_draws[j,],fft=False)[1]\n",
    "                    for j in range(N6)])\n",
    "Model2_Stat1 = np.array([sm.tsa.acf(Model2_draws[j,],fft=False)[1]\n",
    "                    for j in range(N6)])\n",
    "Model3_Stat1 = np.array([sm.tsa.acf(Model3_draws[j,],fft=False)[1]\n",
    "                    for j in range(N6)])\n",
    "Model4_Stat1 = np.array([sm.tsa.acf(Model4_draws[j,],fft=False)[1]\n",
    "                    for j in range(N6)])\n",
    "\n",
    "\n",
    "#Observed Values\n",
    "acc_obs_T1 = sm.tsa.acf(df['Accidents'],fft=False)[1]\n",
    "death_obs_T1 = sm.tsa.acf(df['Deaths'],fft=False)[1]\n",
    "\n",
    "Test1 = np.array([Model1_Stat1,Model2_Stat1,Model3_Stat1,Model4_Stat1])\n",
    "Test1_obs = np.array([acc_obs_T1,acc_obs_T1,death_obs_T1,death_obs_T1])\n",
    "Test1_pvalues = [(Test1[j,:] >= Test1_obs[j]).mean() for j in range(4)]\n",
    "\n",
    "col = [\"blue\",\"red\",\"yellow\",\"green\"]\n",
    "model_number = ['Model 1','Model 2','Model 3','Model 4']\n",
    "fig, [[ax1, ax2],[ax3, ax4]]  = plt.subplots(2, 2,figsize=(10,8))\n",
    "ax = [ax1,ax2,ax3,ax4]\n",
    "\n",
    "for j in range(4):\n",
    "    plt.tight_layout()\n",
    "    ax[j].hist(x = Test1[j,:],bins='auto', color=col[j], alpha=0.7, rwidth=0.85)\n",
    "    ax[j].axvline(Test1_obs[j], color='black', linewidth=2)\n",
    "    ax[j].text(Test1_obs[j], 150,'p = ' + str(Test1_pvalues[j]), fontsize = 18)\n",
    "    ax[j].set_xlabel(\"Test Statistic\")\n",
    "    ax[j].set_ylabel('Frequency')\n",
    "    ax[j].set_title(model_number[j])\n",
    "\n",
    "fig.suptitle('Histogram of Lag-1 Autocorrelation', y = 1.05)\n",
    "fig.tight_layout()"
   ]
  },
  {
   "cell_type": "code",
   "execution_count": 15,
   "id": "114a0949",
   "metadata": {},
   "outputs": [
    {
     "data": {
      "image/png": "[encoded data removed]",
      "text/plain": [
       "<Figure size 720x576 with 4 Axes>"
      ]
     },
     "metadata": {
      "needs_background": "light"
     },
     "output_type": "display_data"
    }
   ],
   "source": [
    "# (2) No Time Trend Over Time (Spearman Correlation)\n",
    "\n",
    "Model1_Stat2 = np.array([spearmanr(Model1_draws[j,:],df['Year'])[0]\n",
    "                    for j in range(N6)])\n",
    "Model2_Stat2 = np.array([spearmanr(Model2_draws[j,:],df['Year'])[0]\n",
    "                    for j in range(N6)])\n",
    "Model3_Stat2 = np.array([spearmanr(Model3_draws[j,:],df['Year'])[0]\n",
    "                    for j in range(N6)])\n",
    "Model4_Stat2 = np.array([spearmanr(Model4_draws[j,:],df['Year'])[0]\n",
    "                    for j in range(N6)])\n",
    "\n",
    "#Observed Values\n",
    "acc_obs_T2 = spearmanr(df['Accidents'],df['Year'])[0]\n",
    "death_obs_T2 = spearmanr(df['Deaths'],df['Year'])[0]\n",
    "\n",
    "Test2 = np.array([Model1_Stat2,Model2_Stat2,Model3_Stat2,Model4_Stat2])\n",
    "Test2_obs = np.array([acc_obs_T2,acc_obs_T2,death_obs_T2,death_obs_T2])\n",
    "Test2_pvalues = [(Test2[j,:] >= Test2_obs[j]).mean() for j in range(4)]\n",
    "\n",
    "col = [\"blue\",\"red\",\"yellow\",\"green\"]\n",
    "model_number = ['Model 1','Model 2','Model 3','Model 4']\n",
    "fig, [[ax1, ax2],[ax3, ax4]]  = plt.subplots(2, 2,figsize=(10,8))\n",
    "ax = [ax1,ax2,ax3,ax4]\n",
    "\n",
    "for j in range(4):\n",
    "    plt.tight_layout()\n",
    "    ax[j].hist(x = Test2[j,:],bins='auto', color=col[j], alpha=0.7, rwidth=0.85)\n",
    "    ax[j].axvline(Test2_obs[j], color='black', linewidth=2)\n",
    "    ax[j].text(Test2_obs[j], 150,'p = ' + str(Test2_pvalues[j]), fontsize = 18)\n",
    "    ax[j].set_xlabel(\"Test Statistic\")\n",
    "    ax[j].set_ylabel('Frequency')\n",
    "    ax[j].set_title(model_number[j])\n",
    "fig.suptitle('Histogram of Spearman Correlations', y = 1.05)\n",
    "fig.tight_layout()"
   ]
  },
  {
   "cell_type": "markdown",
   "id": "b791ed37",
   "metadata": {},
   "source": [
    "###  Problem 6: (BDA 3rd Ed. Exercise 6.5)\n",
    "\n",
    "Prior vs. posterior predictive checks (from Gelman, Meng, and Stern, 1996): consider 100 observations, $y_1,\\dots,y_n$, modeled as independent samples from a $N(\\theta,1)$ distribution with a diffuse prior distribution, say, $p(\\theta)=\\frac{1}{2A}$ for $\\theta \\in [-A,A]$ with some extremely large value of A, such as $10^5 $. We wish to check the model using, as a test statistic,\n",
    "$T(y) = \\max_{j} |y_j|$: is the maximum absolute observed value consistent with the normal\n",
    "model? Consider a dataset in which $\\bar y = 5.1$ and $T(y)=8.1$.\n"
   ]
  },
  {
   "cell_type": "markdown",
   "id": "ec6658eb",
   "metadata": {},
   "source": [
    "> (a)  What is the posterior predictive distribution for $y^{rep}$? Make a histogram for the\n",
    "posterior predictive distribution of $T(y^{rep})$ and give the posterior predictive p-value for the observation $T(y)=8.1$."
   ]
  },
  {
   "cell_type": "code",
   "execution_count": 23,
   "id": "77ac2dc0",
   "metadata": {},
   "outputs": [
    {
     "data": {
      "text/plain": [
       "Text(0.5, 1.0, 'Posterior Predictive $T(y^{rep})$ = $\\\\operatorname{max}_{j} |y_j|$')"
      ]
     },
     "execution_count": 23,
     "metadata": {},
     "output_type": "execute_result"
    },
    {
     "data": {
      "image/png": "[encoded data removed]",
      "text/plain": [
       "<Figure size 432x288 with 1 Axes>"
      ]
     },
     "metadata": {
      "needs_background": "light"
     },
     "output_type": "display_data"
    }
   ],
   "source": [
    "### PROBLEM 6 (BDA  3rd Ed., Exercise 6.5)\n",
    "\n",
    "# PART A\n",
    "\n",
    "def post_pred(y,N):\n",
    "  '''\n",
    "      PARAMETERS:\n",
    "          y - mean of the data\n",
    "          N - number of samples in the data\n",
    "          \n",
    "      Returns:\n",
    "      -------\n",
    "      test statistic : the absolute value of the maximum from 100 samples\n",
    "  '''\n",
    "  p = norm.rvs(size=N,loc = y,scale=np.sqrt(1+1/N))\n",
    "  return abs(max(p)) \n",
    "\n",
    "\n",
    "sample_max = np.array([post_pred(y=5.1,N=100) for j in range(1000)])\n",
    "\n",
    "plt.hist(x = sample_max,color='gold', alpha=0.7, rwidth=0.85)\n",
    "plt.xlabel('Test Statistic')\n",
    "plt.ylabel('Frequency')\n",
    "plt.axvline(8.1, color='black', linewidth=2)\n",
    "plt.text(7, 150,'p = ' + str((sample_max >= 8.1).mean()), fontsize = 18)\n",
    "plt.title(r'Posterior Predictive $T(y^{rep})$ = '\n",
    "                  r'$\\operatorname{max}_{j} |y_j|$')"
   ]
  },
  {
   "cell_type": "markdown",
   "id": "828e53fd",
   "metadata": {},
   "source": [
    "> (b) The prior predictive distribution is $p(y^{rep}) = \\int p(y^{rep}|\\theta)p(\\theta)d\\theta.$ (Compare to equation\n",
    "(6.1).) What is the prior predictive distribution for $y^{rep}$ in this example? Roughly\n",
    "sketch the prior predictive distribution of $T(y^{rep})$ and give the approximate prior predictive p-value for the observation $T(y)=8.1$.\n"
   ]
  },
  {
   "cell_type": "code",
   "execution_count": 24,
   "id": "dd5fb889",
   "metadata": {},
   "outputs": [
    {
     "data": {
      "text/plain": [
       "Text(0.5, 1.0, 'Prior Predictive $T(y^{rep})$ = $\\\\operatorname{max}_{j} |y_j|$')"
      ]
     },
     "execution_count": 24,
     "metadata": {},
     "output_type": "execute_result"
    },
    {
     "data": {
      "image/png": "[encoded data removed]",
      "text/plain": [
       "<Figure size 432x288 with 1 Axes>"
      ]
     },
     "metadata": {
      "needs_background": "light"
     },
     "output_type": "display_data"
    }
   ],
   "source": [
    "# PART B\n",
    "\n",
    "def prior_pred(n,A):\n",
    "  '''\n",
    "  PARAMETERS:\n",
    "    n - number of draws\n",
    "    A - bounds of the uniform prior on theta (i.e. theta ~Unif(-A,A))\n",
    "  \n",
    "  Return:\n",
    "  ------\n",
    "   test statistic : the absolute value of the maximum from 100 samples\n",
    "  '''\n",
    "  theta = -A + A*rand(n)\n",
    "  draws = norm.rvs(size = (n,100), loc = theta[:,None], scale = 1)\n",
    "  reps = abs(draws.max(axis=1))\n",
    "  return reps \n",
    "\n",
    "prior_max = prior_pred(n=1000,A=1e5)\n",
    "\n",
    "plt.hist(x = prior_max,color='gray', alpha=0.7, rwidth=0.85)\n",
    "plt.xlabel('Test Statistic')\n",
    "plt.ylabel('Frequency')\n",
    "plt.axvline(8.1, color='black', linewidth=2)\n",
    "plt.text(7, 100,'p = ' + str((prior_max >= 8.1).mean()), fontsize = 18)\n",
    "plt.title(r'Prior Predictive $T(y^{rep})$ = '\n",
    "                  r'$\\operatorname{max}_{j} |y_j|$')"
   ]
  },
  {
   "cell_type": "markdown",
   "id": "14508855",
   "metadata": {},
   "source": [
    "### Problem 7: (BDA 3rd Ed. Exercise 6.9)\n",
    "Model checking: check the assumed model fitted to the rat tumor data in Section 5.3.\n",
    "Define some test quantities that might be of scientific interest, and compare them to\n",
    "their posterior predictive distributions."
   ]
  },
  {
   "cell_type": "markdown",
   "id": "71e8fe98",
   "metadata": {},
   "source": [
    "> Now we define our test quantities of interest. More or less there are a couple pertinent features that we would like to be seen in the model. Firstly, we want to observe a similar proportion of tumors in our replications as was seen in the the observed data. This would tell us that our model is capable of producing experiments with reasonable tumor frequencies. Secondly, we wouldn't like for our model to over- or under-predict the number of tumors present in the rats. We therefore propose the maximum as test statistic. The maximum will tell us whether or not our model is overpredicting or underpredicting the extremes. We would like to do the same thing with the minimum but the data is extremely sparse; there are many 0's. One option would be to define the number of 0's present as a test statistic to get around this conundrum. Our three statistics will then be:\n",
    "\n",
    "\\begin{alignat*}{1}\n",
    "T_1(y) &= \\max_{j} \\{y_1,y_2,\\dots,y_J\\} \\\\\n",
    "T_2(y) &= \\frac{1}{J} \\sum^{J}_{j=1} \\frac{y_j}{n_j}\\\\\n",
    "T_3(y) &= \\sum^{J}_{j=1} I_{\\{ y_j=0 \\}} \\\\\n",
    "\\end{alignat*}"
   ]
  },
  {
   "cell_type": "code",
   "execution_count": 13,
   "id": "4ef1deda",
   "metadata": {},
   "outputs": [],
   "source": [
    "### Problem 7 (BDA 3rd Ed., Exercise 6.9)\n",
    "#Rat Tumor Example\n",
    "\n",
    "rat_df  = {\n",
    "       'rats':np.array([\n",
    "           20, 20, 20, 20, 20, 20, 20, 19, 19, 19, 19, 18, 18, 17, 20, 20, 20,\n",
    "           20, 19, 19, 18, 18, 25, 24, 23, 20, 20, 20, 20, 20, 20, 10, 49, 19,\n",
    "           46, 27, 17, 49, 47, 20, 20, 13, 48, 50, 20, 20, 20, 20, 20, 20, 20,\n",
    "           48, 19, 19, 19, 22, 46, 49, 20, 20, 23, 19, 22, 20, 20, 20, 52, 46,\n",
    "           47, 24, 14\n",
    "       ]),\n",
    "       'tumors': np.array([\n",
    "            0,  0,  0,  0,  0,  0,  0,  0,  0,  0,  0,  0,  0,  0,  1,  1,  1,\n",
    "            1,  1,  1,  1,  1,  2,  2,  2,  2,  2,  2,  2,  2,  2,  1,  5,  2,\n",
    "            5,  3,  2,  7,  7,  3,  3,  2,  9, 10,  4,  4,  4,  4,  4,  4,  4,\n",
    "           10,  4,  4,  4,  5, 11, 12,  5,  5,  6,  5,  6,  6,  6,  6, 16, 15,\n",
    "           15,  9,  4\n",
    "       ])\n",
    "                   } \n",
    "rat_df = pd.DataFrame(rat_df)"
   ]
  },
  {
   "cell_type": "code",
   "execution_count": 18,
   "id": "a9c6d2b9",
   "metadata": {},
   "outputs": [
    {
     "data": {
      "image/png": "[encoded data removed]",
      "text/plain": [
       "<Figure size 720x360 with 2 Axes>"
      ]
     },
     "metadata": {
      "needs_background": "light"
     },
     "output_type": "display_data"
    }
   ],
   "source": [
    "R2 = 1000\n",
    "\n",
    "ralpha = np.linspace(start = 0.5, stop = 12, num = R2)\n",
    "rbeta = np.linspace(start = 3, stop = 53, num = R2)\n",
    "\n",
    "street_prior = lambda x,y : (x+y)**(-5/2)\n",
    "#of form seen in derivation\n",
    "def bicycle_post(y,n,a,b,prior):\n",
    "    '''\n",
    "    PARAMETERS:\n",
    "    ----------\n",
    "        y - data on bicyle proportions on residential street \n",
    "        n - number of vehicles seen in total\n",
    "        a - alpha parameter\n",
    "        b - beta parameter\n",
    "        prior - prior for alpha, beta\n",
    "    Returns:\n",
    "    -------\n",
    "        logpost: natural logarithm of unnormalized posterior density\n",
    "    '''\n",
    "    \n",
    "    #prior distribution used for this problem\n",
    "    logprior = np.log(prior(a,b))\n",
    "    \n",
    "    # for brevity, split the likelihood into a numerator term and denominator\n",
    "    def loglik(a,b,n,y):\n",
    "        return betaln(a+y,b+(n-y))-betaln(a,b) \n",
    "    logpost = logprior + sum(loglik(a,b,n[j],y[j]) for j in range(len(y)))    \n",
    "    return logpost\n",
    "\n",
    "rat_post = bicycle_post(y = np.asarray(rat_df['tumors']), \n",
    "                        n = np.asarray(rat_df['rats']), \n",
    "                        a = ralpha[:,None], \n",
    "                        b = rbeta[:,None,None],\n",
    "                        prior = street_prior)\n",
    "rat_post = np.sum(rat_post,axis=2)\n",
    "#subtract to avoid overflow\n",
    "rat_post = np.exp( rat_post - rat_post.max()) \n",
    "#normalize the posterior\n",
    "rat_post = rat_post / rat_post.sum( )\n",
    "\n",
    "\n",
    "#np.repeat repeats the vector; np.tile repeats the entries\n",
    "ralpha_grid = np.repeat(ralpha,len(rbeta))\n",
    "rbeta_grid = np.tile(rbeta,len(ralpha))\n",
    "\n",
    "samples = np.random.choice(rat_post.size, size=R2, p = rat_post.ravel(order=\"F\"))\n",
    "\n",
    "#add some random jitter so the variables are continous random variables\n",
    "\n",
    "d_ralpha = np.diff(ralpha)[0]/2\n",
    "d_rbeta = np.diff(rbeta)[0]/2\n",
    "\n",
    "ralpha_post = ralpha_grid[samples] -d_ralpha + (d_ralpha)*rand(R2)\n",
    "rbeta_post = rbeta_grid[samples] -d_rbeta + (d_rbeta)*rand(R2)\n",
    "\n",
    "fig, (ax1,ax2) = plt.subplots(1, 2,figsize=(10,5))\n",
    "\n",
    "ax = [ax1,ax2]\n",
    "\n",
    "#contour levels for posterior\n",
    "lev = [0.001, 0.01,.025,0.05,0.25,0.50,0.75,0.90,0.95]\n",
    "cont = np.quantile(np.linspace(rat_post.min(),rat_post.max(),100000),lev)\n",
    "\n",
    "for j in range(2):\n",
    "    ax[j].contour(ralpha, rbeta, rat_post,levels=cont, colors='red', zorder = 2)\n",
    "    ax2.scatter(ralpha_post, rbeta_post, zorder = 1)\n",
    "    ax[j].set_ylabel(r'$\\beta$')\n",
    "    ax[j].set_xlabel(r'$\\alpha$')\n",
    "fig.suptitle('Posterior Distribution of Rat Tumors')\n",
    "fig.tight_layout()\n",
    "\n",
    "theta_r  = beta.rvs(a = ralpha_post[:,None] + (rat_df['tumors']).to_numpy(),\n",
    "                    b = rbeta_post[:,None] + (rat_df['rats']- rat_df['tumors']).to_numpy(), \n",
    "                    size = (R2,rat_df.shape[0]))\n",
    "\n",
    "#The posterior distributions of each theta_j.\n",
    "\n",
    "tumor_draws = binom.rvs(size=(R2,rat_df.shape[0]), \n",
    "                        n = np.asarray(rat_df['rats'])[None,:], p = theta_r) "
   ]
  },
  {
   "cell_type": "code",
   "execution_count": 26,
   "id": "fe6ad310",
   "metadata": {},
   "outputs": [
    {
     "data": {
      "text/plain": [
       "Text(0.5, 1.05, 'Rat Model Test Statistics')"
      ]
     },
     "execution_count": 26,
     "metadata": {},
     "output_type": "execute_result"
    },
    {
     "data": {
      "image/png": "[encoded data removed]",
      "text/plain": [
       "<Figure size 432x288 with 3 Axes>"
      ]
     },
     "metadata": {
      "needs_background": "light"
     },
     "output_type": "display_data"
    }
   ],
   "source": [
    "# (i) mean, (ii) max & (iii) # of zeros\n",
    "Test_rat = np.c_[(tumor_draws / np.asarray(rat_df['rats'])[None,:]).mean(axis=1),\n",
    "                 (tumor_draws).max(axis=1),\n",
    "                 (tumor_draws==0).sum(axis=1) ]\n",
    "\n",
    "obs_rat = np.array([(rat_df['tumors']/rat_df['rats']).mean(),\n",
    "                    (rat_df['tumors']).max(),\n",
    "                    (rat_df['tumors']==0).sum()])\n",
    "rat_pvalues = [(Test_rat[:,j] >= obs_rat[j]).mean() for j in range(3)]\n",
    "\n",
    "#Sets up grid for our three figures\n",
    "ax1 = plt.subplot2grid(shape=(4,4), loc=(0,1), colspan=2,rowspan = 2)\n",
    "ax2 = plt.subplot2grid((4,4), (2,0), colspan=2,rowspan = 2)\n",
    "ax3 = plt.subplot2grid((4,4), (2,2), colspan=2,rowspan = 2)\n",
    "\n",
    "ax = [ax1,ax2,ax3]\n",
    "col = ['purple', 'gold','green']\n",
    "test_labels = ['Mean of Proportions','Maximum Number of Tumors',\n",
    "               'Number of Tumor Free Rats']\n",
    "\n",
    "for j in range(3):\n",
    "    plt.tight_layout()\n",
    "    ax[j].hist(x = Test_rat[:,j],bins='auto', color=col[j], alpha=0.7, rwidth=0.85)\n",
    "    ax[j].axvline(obs_rat[j], color='black', linewidth=2)\n",
    "    ax[j].text(obs_rat[j], 150,'p = ' + str(rat_pvalues[j]), fontsize = 18)\n",
    "    ax[j].set_ylabel(\"Frequency\")\n",
    "    ax[j].set_xlabel(test_labels[j])\n",
    "plt.suptitle('Rat Model Test Statistics', y = 1.05,fontsize=20)"
   ]
  },
  {
   "cell_type": "markdown",
   "id": "bd636c1c",
   "metadata": {},
   "source": [
    "### Problem 9: BDA 3rd Ed. Exercise 7.6\n",
    "\n",
    "Fitting a power-transformed normal model: Table 7.3 gives short-term radon measurements for a sample of houses in three counties in Minnesota (see Section 9.4 for more\n",
    "on this example). For this problem, ignore the first-floor measurements (those indicated\n",
    "with asterisks in the table)."
   ]
  },
  {
   "cell_type": "code",
   "execution_count": 3,
   "id": "accd7c5f",
   "metadata": {},
   "outputs": [],
   "source": [
    "### Problem 9 (BDA 3rd Ed, Exercise 7.6)\n",
    "    \n",
    "'''\n",
    "Convenient way to store our info. Can't make this into a dataframe since not\n",
    "all of lengths are equal.\n",
    "'''\n",
    "\n",
    "#county radon measurements(excludes basement measurements)\n",
    "radon  = {\n",
    "       'Blue Earth':np.array([5,13,7.2,6.8,12.8,9.5,6,3.8,1.8,6.9,4.7,9.5]),\n",
    "       'Clay':  np.array([12.9,2.6,26.6,1.5,13,8.8,19.5,9.0,13.1,3.6]),\n",
    "       'Goodhue': np.array([14.3,7.6,2.6,43.5,4.9,3.5,4.8,5.6,3.5,3.9,6.7])\n",
    "                   } "
   ]
  },
  {
   "cell_type": "markdown",
   "id": "ab007a98",
   "metadata": {},
   "source": [
    "> (a) Fit the power-transformed normal model from Exercise 7.5(b) to the basement measurements in Blue Earth County."
   ]
  },
  {
   "cell_type": "code",
   "execution_count": 4,
   "id": "6b5edea6",
   "metadata": {},
   "outputs": [
    {
     "data": {
      "image/png": "[encoded data removed]",
      "text/plain": [
       "<Figure size 432x288 with 1 Axes>"
      ]
     },
     "metadata": {
      "needs_background": "light"
     },
     "output_type": "display_data"
    }
   ],
   "source": [
    "#PART A\n",
    "N9 = 1000\n",
    "phi = np.linspace(start = -5, stop = 5 , num = N9)\n",
    "\n",
    "phi_prior = lambda x: 1\n",
    "#with our drawa od blue earth, we will update our values of phi\n",
    "def phi_post(y,phi,prior):\n",
    "    '''\n",
    "    PARAMETERS:\n",
    "    ----------\n",
    "        y-data\n",
    "        phi - phi parameter\n",
    "        prior - prior for phi\n",
    "    Returns:\n",
    "    -------\n",
    "        logpost: natural logarithm of unnormalized posterior density\n",
    "    '''\n",
    "    n = len(y) #shorthand\n",
    "    log_boxcox_var = ((n-1)/2)*np.log( boxcox(y,phi).var(ddof=1,axis=0) )\n",
    "    logprior = np.log(prior(phi)) + (phi-1)*(1-(1/n))*( np.log(y) ).sum()\n",
    "    logpost = logprior - log_boxcox_var #log posterior\n",
    "    return logpost\n",
    "\n",
    "#this becomes a dataframe that contains all of the posteriors for phi\n",
    "radon_post = {\n",
    "        'Blue Earth': phi_post(y = radon[\"Blue Earth\"][:,None], phi = phi,\n",
    "                               prior = phi_prior),\n",
    "        'Clay':phi_post(y = radon[\"Clay\"][:,None], phi = phi,\n",
    "                        prior = phi_prior),\n",
    "        'Goodhue': phi_post(y = radon[\"Goodhue\"][:,None], phi = phi,\n",
    "                            prior = phi_prior)}\n",
    "\n",
    "radon_post = pd.DataFrame(radon_post)\n",
    "\n",
    "#normalize the columns\n",
    "radon_post = radon_post.apply(lambda x: np.exp(x)/np.sum(np.exp(x)))\n",
    "\n",
    "#This is what our plot of p(phi|y) should look like\n",
    "[plt.plot(phi,radon_post[x]) for x in radon_post.columns]\n",
    "plt.title(\"Marginal Posterior of \"+r'p($\\phi$ |y)'+\", Counties\")\n",
    "plt.xlabel(r'$\\phi$')\n",
    "plt.ylabel(r'p($\\phi$ |y)')\n",
    "plt.legend([\"Blue Earth County\",\"Clay County\",\"Goodhue County\"])\n",
    "plt.show()"
   ]
  },
  {
   "cell_type": "code",
   "execution_count": 5,
   "id": "96b623fc",
   "metadata": {},
   "outputs": [
    {
     "data": {
      "text/html": [
       "<div>\n",
       "<style scoped>\n",
       "    .dataframe tbody tr th:only-of-type {\n",
       "        vertical-align: middle;\n",
       "    }\n",
       "\n",
       "    .dataframe tbody tr th {\n",
       "        vertical-align: top;\n",
       "    }\n",
       "\n",
       "    .dataframe thead th {\n",
       "        text-align: right;\n",
       "    }\n",
       "</style>\n",
       "<table border=\"1\" class=\"dataframe\">\n",
       "  <thead>\n",
       "    <tr style=\"text-align: right;\">\n",
       "      <th></th>\n",
       "      <th>Mean</th>\n",
       "      <th>Standard Deviation</th>\n",
       "      <th>2.5%</th>\n",
       "      <th>25.0%</th>\n",
       "      <th>50.0%</th>\n",
       "      <th>75.0%</th>\n",
       "      <th>97.5%</th>\n",
       "    </tr>\n",
       "  </thead>\n",
       "  <tbody>\n",
       "    <tr>\n",
       "      <th>Phi</th>\n",
       "      <td>0.67</td>\n",
       "      <td>0.55</td>\n",
       "      <td>-0.38</td>\n",
       "      <td>0.30</td>\n",
       "      <td>0.66</td>\n",
       "      <td>1.04</td>\n",
       "      <td>1.73</td>\n",
       "    </tr>\n",
       "    <tr>\n",
       "      <th>Blue Earth mu</th>\n",
       "      <td>5.75</td>\n",
       "      <td>6.39</td>\n",
       "      <td>1.28</td>\n",
       "      <td>2.48</td>\n",
       "      <td>3.84</td>\n",
       "      <td>6.75</td>\n",
       "      <td>19.65</td>\n",
       "    </tr>\n",
       "    <tr>\n",
       "      <th>Blue Earth sigma</th>\n",
       "      <td>3.70</td>\n",
       "      <td>6.07</td>\n",
       "      <td>0.31</td>\n",
       "      <td>0.94</td>\n",
       "      <td>1.88</td>\n",
       "      <td>4.06</td>\n",
       "      <td>17.68</td>\n",
       "    </tr>\n",
       "  </tbody>\n",
       "</table>\n",
       "</div>"
      ],
      "text/plain": [
       "                  Mean  Standard Deviation  2.5%  25.0%  50.0%  75.0%  97.5%\n",
       "Phi               0.67                0.55 -0.38   0.30   0.66   1.04   1.73\n",
       "Blue Earth mu     5.75                6.39  1.28   2.48   3.84   6.75  19.65\n",
       "Blue Earth sigma  3.70                6.07  0.31   0.94   1.88   4.06  17.68"
      ]
     },
     "execution_count": 5,
     "metadata": {},
     "output_type": "execute_result"
    }
   ],
   "source": [
    "#now based on the vector, we draw most likely values of phi\n",
    "BE_samples = np.random.choice(phi, size=len(phi), replace=True, \n",
    "                              p = radon_post['Blue Earth'])\n",
    "\n",
    "#add jitter\n",
    "d_phi = np.diff(phi)[0]/2\n",
    "\n",
    "#Posterior Draws\n",
    "BE_samples += -d_phi + d_phi*rand(len(phi))\n",
    "\n",
    "#Posterior draws for mu, sigma\n",
    "def norm_draws(y,phi):\n",
    "    '''\n",
    "    PARAMETERS:\n",
    "    ----------\n",
    "        y - data \n",
    "        phi - posterior draws from phi | y\n",
    "    Returns:\n",
    "    -------\n",
    "        tuple of (mu,sigma) draws the same length of phi\n",
    "    '''\n",
    "    n =  len(y) #individual data lengths\n",
    "    boxcox_samples = boxcox(y[:,None],phi)\n",
    "    \n",
    "    sample_mean = boxcox_samples.mean(axis=0)\n",
    "    sample_var = boxcox_samples.var(ddof=1,axis=0)\n",
    "    sigma = np.sqrt((n-1)*sample_var / chi2.rvs(df = n - 1, size = len(phi)) )\n",
    "    mu = norm.rvs(loc = sample_mean,scale = sigma/np.sqrt(n),size = len(phi))\n",
    "    return mu, sigma\n",
    "\n",
    "#statistics for part a model\n",
    "BE_data = {\n",
    "        'Phi': BE_samples,\n",
    "        'Blue Earth mu': norm_draws(radon[\"Blue Earth\"], phi = BE_samples)[0],\n",
    "        'Blue Earth sigma': norm_draws(radon[\"Blue Earth\"], phi = BE_samples)[1],\n",
    "        }\n",
    "\n",
    "BE_data = pd.DataFrame(BE_data)\n",
    "\n",
    "param_stats(X = BE_data,\n",
    "            p = [0.025,0.25,0.50,0.75,0.975], \n",
    "            names = [\"Phi\",\"Blue Earth mu\",\"Blue Earth sigma\"], sig = 2)"
   ]
  },
  {
   "cell_type": "markdown",
   "id": "a568a416",
   "metadata": {},
   "source": [
    "(b) Fit the power-transformed normal model to the basement measurements in all three\n",
    "counties, holding the parameter $\\phi$ equal for all three counties but allowing the mean\n",
    "and variance of the normal distribution to vary"
   ]
  },
  {
   "cell_type": "code",
   "execution_count": 6,
   "id": "bed2e8be",
   "metadata": {},
   "outputs": [
    {
     "data": {
      "image/png": "[encoded data removed]",
      "text/plain": [
       "<Figure size 432x288 with 1 Axes>"
      ]
     },
     "metadata": {
      "needs_background": "light"
     },
     "output_type": "display_data"
    }
   ],
   "source": [
    "#PART B\n",
    "\n",
    "def pooled_phi_post(y,phi,prior):\n",
    "    '''\n",
    "    PARAMETERS:\n",
    "    ----------\n",
    "        y-data (NOTE: data is in dictionary form)\n",
    "        phi - phi parameter\n",
    "        prior - prior for phi\n",
    "    Returns:\n",
    "    -------\n",
    "        logpost: natural logarithm of unnormalized posterior density\n",
    "    '''\n",
    "    y_pooled = np.concatenate([y[x] for x in y.keys()],)\n",
    "    N = len(y_pooled) #shorthand for pooled length\n",
    "    n =  np.array([len(y[x]) for x in y.keys()]) #individual data lengths\n",
    "    \n",
    "    log_geo_mean = (phi-1)*(1-(1/N))*np.sum( np.log(y_pooled) ) #log geometric mean\n",
    "    \n",
    "    #does boxcox transform for each set, and takes the variance\n",
    "    boxcox_y = np.array([boxcox(y[x][:,None],phi).var(ddof=1,axis=0) \n",
    "                         for x in y.keys()] )\n",
    "    \n",
    "    #finishes calculation of the denominator seen in solutions\n",
    "    log_boxcox_var = np.array([((n[x]-1)/2)*np.log( boxcox_y[x,:] )\n",
    "                               for x in range(len(n)) ] )\n",
    "    log_boxcox_var = log_boxcox_var.sum(axis=0)\n",
    "    \n",
    "    logprior = np.log(prior(phi)) + log_geo_mean #log of the prior + log geometric mean\n",
    "    logpost = logprior - log_boxcox_var #log posterior\n",
    "    return logpost\n",
    "\n",
    "### PART B\n",
    "radon_post['Pooled'] = pooled_phi_post(y = radon, phi = phi, prior = phi_prior )\n",
    "radon_post['Pooled'] = np.exp(radon_post['Pooled']) / (np.exp(radon_post['Pooled'])).sum()\n",
    "\n",
    "#This is what our plot of p(phi|y) should look like\n",
    "plt.plot(phi,radon_post['Pooled'])\n",
    "plt.title(\"Marginal Posterior of \"+r'p($\\phi$ |y)'+\", Pooled Model\")\n",
    "plt.xlabel(r'$\\phi$')\n",
    "plt.ylabel(r'p($\\phi$ |y)')\n",
    "plt.show()"
   ]
  },
  {
   "cell_type": "code",
   "execution_count": 7,
   "id": "863615c0",
   "metadata": {},
   "outputs": [
    {
     "data": {
      "text/html": [
       "<div>\n",
       "<style scoped>\n",
       "    .dataframe tbody tr th:only-of-type {\n",
       "        vertical-align: middle;\n",
       "    }\n",
       "\n",
       "    .dataframe tbody tr th {\n",
       "        vertical-align: top;\n",
       "    }\n",
       "\n",
       "    .dataframe thead th {\n",
       "        text-align: right;\n",
       "    }\n",
       "</style>\n",
       "<table border=\"1\" class=\"dataframe\">\n",
       "  <thead>\n",
       "    <tr style=\"text-align: right;\">\n",
       "      <th></th>\n",
       "      <th>Mean</th>\n",
       "      <th>Standard Deviation</th>\n",
       "      <th>2.5%</th>\n",
       "      <th>25.0%</th>\n",
       "      <th>50.0%</th>\n",
       "      <th>75.0%</th>\n",
       "      <th>97.5%</th>\n",
       "    </tr>\n",
       "  </thead>\n",
       "  <tbody>\n",
       "    <tr>\n",
       "      <th>Phi</th>\n",
       "      <td>0.19</td>\n",
       "      <td>0.24</td>\n",
       "      <td>-0.25</td>\n",
       "      <td>0.02</td>\n",
       "      <td>0.19</td>\n",
       "      <td>0.35</td>\n",
       "      <td>0.68</td>\n",
       "    </tr>\n",
       "    <tr>\n",
       "      <th>Blue Earth mu</th>\n",
       "      <td>2.39</td>\n",
       "      <td>0.75</td>\n",
       "      <td>1.39</td>\n",
       "      <td>1.87</td>\n",
       "      <td>2.24</td>\n",
       "      <td>2.76</td>\n",
       "      <td>4.18</td>\n",
       "    </tr>\n",
       "    <tr>\n",
       "      <th>Blue Earth sigma</th>\n",
       "      <td>0.91</td>\n",
       "      <td>0.48</td>\n",
       "      <td>0.36</td>\n",
       "      <td>0.58</td>\n",
       "      <td>0.79</td>\n",
       "      <td>1.11</td>\n",
       "      <td>2.13</td>\n",
       "    </tr>\n",
       "    <tr>\n",
       "      <th>Clay mu</th>\n",
       "      <td>2.95</td>\n",
       "      <td>1.31</td>\n",
       "      <td>1.37</td>\n",
       "      <td>2.10</td>\n",
       "      <td>2.65</td>\n",
       "      <td>3.43</td>\n",
       "      <td>6.27</td>\n",
       "    </tr>\n",
       "    <tr>\n",
       "      <th>Clay sigma</th>\n",
       "      <td>1.68</td>\n",
       "      <td>1.07</td>\n",
       "      <td>0.56</td>\n",
       "      <td>0.99</td>\n",
       "      <td>1.40</td>\n",
       "      <td>2.03</td>\n",
       "      <td>4.54</td>\n",
       "    </tr>\n",
       "    <tr>\n",
       "      <th>Goodhue mu</th>\n",
       "      <td>2.45</td>\n",
       "      <td>1.07</td>\n",
       "      <td>1.27</td>\n",
       "      <td>1.79</td>\n",
       "      <td>2.21</td>\n",
       "      <td>2.79</td>\n",
       "      <td>5.09</td>\n",
       "    </tr>\n",
       "    <tr>\n",
       "      <th>Goodhue sigma</th>\n",
       "      <td>1.73</td>\n",
       "      <td>1.53</td>\n",
       "      <td>0.44</td>\n",
       "      <td>0.87</td>\n",
       "      <td>1.33</td>\n",
       "      <td>2.02</td>\n",
       "      <td>5.53</td>\n",
       "    </tr>\n",
       "  </tbody>\n",
       "</table>\n",
       "</div>"
      ],
      "text/plain": [
       "                  Mean  Standard Deviation  2.5%  25.0%  50.0%  75.0%  97.5%\n",
       "Phi               0.19                0.24 -0.25   0.02   0.19   0.35   0.68\n",
       "Blue Earth mu     2.39                0.75  1.39   1.87   2.24   2.76   4.18\n",
       "Blue Earth sigma  0.91                0.48  0.36   0.58   0.79   1.11   2.13\n",
       "Clay mu           2.95                1.31  1.37   2.10   2.65   3.43   6.27\n",
       "Clay sigma        1.68                1.07  0.56   0.99   1.40   2.03   4.54\n",
       "Goodhue mu        2.45                1.07  1.27   1.79   2.21   2.79   5.09\n",
       "Goodhue sigma     1.73                1.53  0.44   0.87   1.33   2.02   5.53"
      ]
     },
     "execution_count": 7,
     "metadata": {},
     "output_type": "execute_result"
    }
   ],
   "source": [
    "#now based on the vector, we draw most likely values of phi\n",
    "pooled_phi = np.random.choice(phi, size=len(phi), \n",
    "                                      replace=True, p = radon_post['Pooled'])\n",
    "pooled_phi += -d_phi + d_phi*rand(len(phi))\n",
    "\n",
    "#statistics for part b model\n",
    "\n",
    "county_stats = {\n",
    "        'Phi': pooled_phi,\n",
    "        'Blue Earth mu': norm_draws(radon[\"Blue Earth\"], phi = pooled_phi)[0],\n",
    "        'Blue Earth sigma': norm_draws(radon[\"Blue Earth\"], phi = pooled_phi)[1],\n",
    "        'Clay mu': norm_draws(radon[\"Clay\"], phi = pooled_phi)[0],\n",
    "        'Clay sigma': norm_draws(radon[\"Clay\"], phi = pooled_phi)[1],\n",
    "        'Goodhue mu': norm_draws(radon[\"Goodhue\"], phi = pooled_phi)[0],\n",
    "        'Goodhue sigma': norm_draws(radon[\"Goodhue\"], phi = pooled_phi)[1]\n",
    "        }\n",
    "\n",
    "county_stats = pd.DataFrame(county_stats)\n",
    "\n",
    "param_stats(X = county_stats,\n",
    "            p = [0.025,0.25,0.50,0.75,0.975], \n",
    "            names = [\"Phi\",\"Blue Earth mu\",\"Blue Earth sigma\",\n",
    "                     \"Clay mu\",\"Clay sigma\",\"Goodhue mu\",\"Goodhue sigma\"], sig = 2)"
   ]
  },
  {
   "cell_type": "markdown",
   "id": "7d6833b9",
   "metadata": {},
   "source": [
    "> (c)  Check the fit of the model using posterior predictive simulations."
   ]
  },
  {
   "cell_type": "code",
   "execution_count": 8,
   "id": "de327403",
   "metadata": {},
   "outputs": [
    {
     "data": {
      "text/plain": [
       "1"
      ]
     },
     "execution_count": 8,
     "metadata": {},
     "output_type": "execute_result"
    }
   ],
   "source": [
    "#PART C: Posterior Predictive Simulations\n",
    "\n",
    "def boxcox_samples(n,y,phi):\n",
    "  '''\n",
    "  PARAMETERS:\n",
    "  ----------\n",
    "    n - number of samples\n",
    "    y - data\n",
    "    phi - posterior draw of phi\n",
    "  Returns:\n",
    "  -------\n",
    "   matrix of replications of original data ( n by length of data)\n",
    "  '''\n",
    "  \n",
    "  #draw samples\n",
    "  #First, create your boxcox data\n",
    "  boxcox_data =  boxcox(y,phi)\n",
    "  \n",
    "  #Second,now get sufficient statistics for the data\n",
    "  y_mean, y_var = boxcox_data.mean(), boxcox_data.var(ddof=1)\n",
    "  N = len(y)\n",
    "  \n",
    "  #get our samples of mu, sigma\n",
    "  sigma = np.sqrt((N-1)*y_var / chi2.rvs(df = N - 1, size = n) )\n",
    "  mu = norm.rvs(loc = y_mean,scale = sigma/np.sqrt(N),size = n)\n",
    "  \n",
    "  #use samples of mu, sigma to get boxcox draws\n",
    "  data = norm.rvs(loc = mu[:,None],scale = sigma[:,None],size = (n,N))\n",
    "  #reverse samples\n",
    "  invdata = inv_boxcox(data,phi) \n",
    "  return invdata\n",
    "\n",
    "#mode of p(phi|y)\n",
    "pooled_mode = phi[radon_post['Pooled'].argmax()]\n",
    "\n",
    "#Replications\n",
    "BlueEarth_reps = boxcox_samples(n=1000,y=radon[\"Blue Earth\"],phi=pooled_mode)\n",
    "np.sum( np.isnan(BlueEarth_reps) )\n",
    "\n",
    "Clay_reps = boxcox_samples(n=1000,y=radon[\"Clay\"],phi=pooled_mode)\n",
    "np.sum(np.isnan(Clay_reps) )\n",
    "\n",
    "Goodhue_reps = boxcox_samples(n=1000,y=radon[\"Goodhue\"],phi=pooled_mode)\n",
    "np.sum(np.isnan(Goodhue_reps) )"
   ]
  },
  {
   "cell_type": "markdown",
   "id": "7aabb5fa",
   "metadata": {},
   "source": [
    "Maximum Test Statistic"
   ]
  },
  {
   "cell_type": "code",
   "execution_count": 11,
   "id": "188d9233",
   "metadata": {},
   "outputs": [
    {
     "data": {
      "image/png": "[encoded data removed]",
      "text/plain": [
       "<Figure size 720x576 with 3 Axes>"
      ]
     },
     "metadata": {
      "needs_background": "light"
     },
     "output_type": "display_data"
    }
   ],
   "source": [
    "### TEST STATISTICS\n",
    "\n",
    "#(i) Maximum\n",
    "max_rep = np.c_[BlueEarth_reps.max(axis=1),Clay_reps.max(axis=1),Goodhue_reps.max(axis=1)]\n",
    "max_obs = np.array([radon['Blue Earth'].max(),radon['Clay'].max(),radon['Goodhue'].max()])\n",
    "\n",
    "#places to put the p value text on histograms. Adjustable\n",
    "x_max = np.array([40,100,100])\n",
    "y_max = np.array([100,100,100])\n",
    "\n",
    "fig = plt.subplots(figsize=(10,8))\n",
    "\n",
    "#Sets up grid for our three figures\n",
    "ax1 = plt.subplot2grid(shape=(4,4), loc=(0,1), colspan=2,rowspan = 2)\n",
    "ax2 = plt.subplot2grid((4,4), (2,0), colspan=2,rowspan = 2)\n",
    "ax3 = plt.subplot2grid((4,4), (2,2), colspan=2,rowspan = 2)\n",
    "\n",
    "ax = [ax1,ax2,ax3]\n",
    "col = ['purple','gold','green']\n",
    "county_labels = ['Blue Earth County','Clay County','Goodhue County']\n",
    "\n",
    "for j in range(3):\n",
    "    plt.tight_layout()\n",
    "    ax[j].hist(x = max_rep[:,j],bins='auto', color=col[j], alpha=0.7, rwidth=0.85)\n",
    "    ax[j].axvline(max_obs[j], color='black', linewidth=2)\n",
    "    ax[j].text(x_max[j],y_max[j],'p = ' + str( (max_rep[:,j] >= max_obs[j]).mean() ))\n",
    "    ax[j].set_ylabel(\"Frequency\")\n",
    "    ax[j].set_xlabel(r'$T(y^{rep})$ = 'r'$\\operatorname{max}_{j} |y^{rep}|$')\n",
    "    ax[j].set_title(county_labels[j])"
   ]
  },
  {
   "cell_type": "markdown",
   "id": "f81f0898",
   "metadata": {},
   "source": [
    "Standard Deviation Test Statistic"
   ]
  },
  {
   "cell_type": "code",
   "execution_count": 10,
   "id": "be7f063a",
   "metadata": {},
   "outputs": [
    {
     "data": {
      "image/png": "[encoded data removed]",
      "text/plain": [
       "<Figure size 720x576 with 3 Axes>"
      ]
     },
     "metadata": {
      "needs_background": "light"
     },
     "output_type": "display_data"
    }
   ],
   "source": [
    "#(ii) Standard Deviation\n",
    "sd_rep = np.c_[BlueEarth_reps.std(axis=1,ddof=1),\n",
    "               Clay_reps.std(axis=1,ddof=1),\n",
    "               Goodhue_reps.std(axis=1,ddof=1)]\n",
    "sd_obs = np.array([radon['Blue Earth'].std(ddof=1),\n",
    "                   radon['Clay'].std(ddof=1),\n",
    "                   radon['Goodhue'].std(ddof=1)])\n",
    "\n",
    "#places to put the p value text on histograms. Adjustable\n",
    "x_sd = np.array([10,30,30])\n",
    "y_sd = np.array([100,100,100])\n",
    "\n",
    "fig = plt.subplots(figsize=(10,8))\n",
    "\n",
    "#Sets up grid for our three figures\n",
    "ax1 = plt.subplot2grid(shape=(4,4), loc=(0,1), colspan=2,rowspan = 2)\n",
    "ax2 = plt.subplot2grid((4,4), (2,0), colspan=2,rowspan = 2)\n",
    "ax3 = plt.subplot2grid((4,4), (2,2), colspan=2,rowspan = 2)\n",
    "\n",
    "ax = [ax1,ax2,ax3]\n",
    "col = ['purple','gold','green']\n",
    "county_labels = ['Blue Earth County','Clay County','Goodhue County']\n",
    "\n",
    "for j in range(3):\n",
    "    plt.tight_layout()\n",
    "    ax[j].hist(x = sd_rep[:,j],bins='auto', color=col[j], alpha=0.7, rwidth=0.85)\n",
    "    ax[j].axvline(sd_obs[j], color='black', linewidth=2)\n",
    "    ax[j].text(x_sd[j],y_sd[j],'p = ' + str( (sd_rep[:,j] >= sd_obs[j]).mean() ))\n",
    "    ax[j].set_ylabel(\"Frequency\")\n",
    "    ax[j].set_xlabel(r'$T(y^{rep})$ = 'r'$sd(y^{rep})$')\n",
    "    ax[j].set_title(county_labels[j])"
   ]
  }
 ],
 "metadata": {
  "kernelspec": {
   "display_name": "Python 3 (ipykernel)",
   "language": "python",
   "name": "python3"
  },
  "language_info": {
   "codemirror_mode": {
    "name": "ipython",
    "version": 3
   },
   "file_extension": ".py",
   "mimetype": "text/x-python",
   "name": "python",
   "nbconvert_exporter": "python",
   "pygments_lexer": "ipython3",
   "version": "3.7.4"
  }
 },
 "nbformat": 4,
 "nbformat_minor": 5
}
