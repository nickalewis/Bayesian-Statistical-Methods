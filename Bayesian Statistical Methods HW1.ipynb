{
 "cells": [
  {
   "cell_type": "code",
   "execution_count": 14,
   "metadata": {},
   "outputs": [],
   "source": [
    "#literally everything\n",
    "import numpy as np\n",
    "#for plotting our histograms, contours and lines\n",
    "import matplotlib.pyplot as plt\n",
    "#for making dataframes\n",
    "import pandas as pd\n",
    "#lets us use probability distributions like t, beta, gamma,etc.\n",
    "from scipy.stats import norm, expon, poisson, uniform, nbinom, gamma"
   ]
  },
  {
   "cell_type": "code",
   "execution_count": 15,
   "metadata": {
    "scrolled": true
   },
   "outputs": [],
   "source": [
    "#PROBLEM 3 (BDA 3rd. Ed. 1.9)"
   ]
  },
  {
   "cell_type": "code",
   "execution_count": 19,
   "metadata": {},
   "outputs": [],
   "source": [
    "def poisson_process(l,time,a,b,num): \n",
    "  '''\n",
    "  ### MODEL PARAMETERS\n",
    "  # l - rate parameter\n",
    "  # time - time period we're interested in (lambda and time must be same scale)\n",
    "  # a, b - time interval of time spent with patient. i.e. U ~ uniform(a,b)\n",
    "  # num - number of doctors in the clinic\n",
    "  '''\n",
    "  #samples 10*mean(Poisson(lambda*t)) from T ~ Exp(lambda) and sums them. \n",
    "  arr_T = np.cumsum(expon.rvs(size=10*int(time/l),scale=l))\n",
    "  #remove anything exceeding time. we don't take patients after that\n",
    "  arr_T = np.array([x for x in arr_T if x <= time])\n",
    "  # records appointment duration wrt opening time\n",
    "  doc = np.repeat(0.0,num) #must be 0.0 to allow for floats.\n",
    "  wait = []\n",
    "  for j in range(len(arr_T)): \n",
    "      # waiting time of patient j\n",
    "      wait.append(doc.min() - arr_T[j])\n",
    "      #appointment duration\n",
    "      u = uniform.rvs(size=1, loc=a, scale=b-a)\n",
    "      doc[doc.argmin()] = np.array([doc.min() if wait[j]>0 else arr_T[j]]) + u\n",
    "  #if wait <= 0, they didn't wait. If wait > 0, they did\n",
    "  number_waited = sum([ 1 if x>0 else 0 for x in wait])\n",
    "  #waiting time is simply sum of positive waiting times\n",
    "  time_waiting = sum([ x if x>0 else 0 for x in wait])\n",
    "  #clinic closes either at 4:00pm, or when they finish\n",
    "  closing_time = np.max([doc.max(),time])\n",
    "  #in the case that no one waits on a doctor\n",
    "  avg_wait_time = [ 0 if number_waited==0 else time_waiting / number_waited]\n",
    "  ### STORES OUR INFORMATION\n",
    "  df  = {\n",
    "        'Number of Arrivals': [len(arr_T)],\n",
    "        'Number of Patients': number_waited,\n",
    "        'Average Waiting Time': avg_wait_time,\n",
    "        'Closing Time': closing_time\n",
    "                   } \n",
    "  df = pd.DataFrame(df)\n",
    "  return(df)"
   ]
  },
  {
   "cell_type": "code",
   "execution_count": 20,
   "metadata": {},
   "outputs": [
    {
     "name": "stdout",
     "output_type": "stream",
     "text": [
      "   Number of Arrivals  Number of Patients  Average Waiting Time  Closing Time\n",
      "0                  49                  14              5.643469    436.681475\n"
     ]
    }
   ],
   "source": [
    "# PART A\n",
    "print(poisson_process(l=10,time=420,a=15,b=20,num=3))"
   ]
  },
  {
   "cell_type": "code",
   "execution_count": 21,
   "metadata": {},
   "outputs": [
    {
     "name": "stdout",
     "output_type": "stream",
     "text": [
      "      Number of Arrivals  Number of Patients  Average Waiting Time  \\\n",
      "0.25                39.0                 8.0                  5.25   \n",
      "0.50                43.0                12.0                  6.48   \n",
      "0.75                46.0                18.0                  8.39   \n",
      "\n",
      "      Closing Time  \n",
      "0.25        425.67  \n",
      "0.50        432.98  \n",
      "0.75        436.73  \n"
     ]
    }
   ],
   "source": [
    "#PART B \n",
    "#gets samples (note:_ convention for a variable whose value you don't care for)\n",
    "w = [poisson_process(l=10,time=420,a=15,b=20,num=3) for _ in range(101)]\n",
    "w = pd.concat(w)\n",
    "\n",
    "#so we can see all the data\n",
    "pd.set_option(\"display.max_columns\", 4)\n",
    "#find quantiles over columns\n",
    "print(np.round(w.quantile([0.25,0.50,0.75], axis = 0),2))"
   ]
  },
  {
   "cell_type": "code",
   "execution_count": 22,
   "metadata": {},
   "outputs": [
    {
     "data": {
      "image/png": "[encoded data removed]",
      "text/plain": [
       "<Figure size 400x400 with 1 Axes>"
      ]
     },
     "metadata": {
      "needs_background": "light"
     },
     "output_type": "display_data"
    }
   ],
   "source": [
    "### PROBLEM 4 (BDA 3rd. Ed. 2.4)\n",
    "\n",
    "#values that we want to plug in for our pdf\n",
    "y = np.linspace(start=0, stop=300, num=1000)\n",
    "#normal approx. to binomial\n",
    "def fy(x,theta) : \n",
    "    mu = 1000*theta; sd = np.sqrt(1000*theta*(1-theta))\n",
    "    return norm.pdf(x, loc = mu, scale = sd)\n",
    "\n",
    "#sample space of parameter theta\n",
    "theta_values = np.array([1/12,1/6,1/4])\n",
    "#probability associated with each value of theta\n",
    "theta_probs = np.array([0.25,0.5,0.25])\n",
    "\n",
    "#does matrix multiplication. (1000x3)(2x1) -> 1000x1 vector\n",
    "p = fy(y[:,None], theta_values).dot(theta_probs)\n",
    "\n",
    "# Draw Plot\n",
    "plt.figure(figsize=(5,5), dpi= 80) #dimensions of figure\n",
    "\n",
    "ax = plt.axes() # Setting the background color of the plot \n",
    "ax.set_facecolor(\"white\") # using set_facecolor() method\n",
    "\n",
    "plt.plot(y,p,color=\"black\",alpha=0.7,linewidth=2)\n",
    "plt.xlabel('y',fontweight='bold')\n",
    "plt.ylabel(\"$f_{Y}(y)$\",fontweight='bold')\n",
    "plt.title('Prior Predictive Distribution')\n",
    "plt.show()"
   ]
  },
  {
   "cell_type": "code",
   "execution_count": 25,
   "metadata": {},
   "outputs": [
    {
     "name": "stdout",
     "output_type": "stream",
     "text": [
      "       5%      25%      50%     75%      95%\n",
      "0  75.978  118.406  166.667  206.18  261.524\n"
     ]
    }
   ],
   "source": [
    "#Note, use 0.9999 for the quantiles in between. 1 gives you Infinity\n",
    "q = [0.20,0.99997,0.50,0.9996,0.80]\n",
    "mu_theta = np.array([1/12,1/12,1/6,1/6,1/4])\n",
    "sd_theta = np.sqrt(1000*mu_theta*(1-mu_theta))\n",
    "\n",
    "Q = norm.ppf(q,loc = 1000*mu_theta,scale = sd_theta)\n",
    "\n",
    "#put into dataframe so it looks nice\n",
    "Q = pd.DataFrame(np.round(Q,3).reshape(1,5),\n",
    "                 columns= [\"5%\",\"25%\",\"50%\",\"75%\",\"95%\"])\n",
    "#so we can see all the data\n",
    "pd.set_option(\"display.max_columns\", 5)\n",
    "print(Q)"
   ]
  },
  {
   "cell_type": "code",
   "execution_count": 26,
   "metadata": {},
   "outputs": [
    {
     "data": {
      "text/html": [
       "<div>\n",
       "<style scoped>\n",
       "    .dataframe tbody tr th:only-of-type {\n",
       "        vertical-align: middle;\n",
       "    }\n",
       "\n",
       "    .dataframe tbody tr th {\n",
       "        vertical-align: top;\n",
       "    }\n",
       "\n",
       "    .dataframe thead th {\n",
       "        text-align: right;\n",
       "    }\n",
       "</style>\n",
       "<table border=\"1\" class=\"dataframe\">\n",
       "  <thead>\n",
       "    <tr style=\"text-align: right;\">\n",
       "      <th></th>\n",
       "      <th>5.0%</th>\n",
       "      <th>25.0%</th>\n",
       "      <th>50.0%</th>\n",
       "      <th>75.0%</th>\n",
       "      <th>95.0%</th>\n",
       "    </tr>\n",
       "  </thead>\n",
       "  <tbody>\n",
       "    <tr>\n",
       "      <td>0</td>\n",
       "      <td>75.98</td>\n",
       "      <td>118.0</td>\n",
       "      <td>166.67</td>\n",
       "      <td>206.45</td>\n",
       "      <td>261.52</td>\n",
       "    </tr>\n",
       "  </tbody>\n",
       "</table>\n",
       "</div>"
      ],
      "text/plain": [
       "    5.0%  25.0%   50.0%   75.0%   95.0%\n",
       "0  75.98  118.0  166.67  206.45  261.52"
      ]
     },
     "execution_count": 26,
     "metadata": {},
     "output_type": "execute_result"
    }
   ],
   "source": [
    "#METHOD 2:\n",
    "\n",
    "# GMQ- Gaussian Mixture Quantiles. Uses line search to find roots\n",
    "def GMQ(p,theta,w,y,tol):\n",
    "    #cdf function\n",
    "  def gmm(x,theta) : \n",
    "    mu = 1000*theta; sd = np.sqrt(1000*theta*(1-theta))\n",
    "    return norm.cdf(x, loc = mu, scale = sd)\n",
    "  #y values to plug into cdf; \n",
    "  x = np.arange(0,y+tol,tol)\n",
    "  #values of function cdf(y)- q; length of quantile\n",
    "  mass = gmm(x[:,None], theta).dot(w); n = len(p)\n",
    "  ww = abs(mass[:,None]-p[None,:])\n",
    "  quantile = x[ww.argmin(axis=0)]\n",
    "  #names the quantiles we're looking for\n",
    "  quantile_names = [str(100*p[j])+'%' for j in range(n)]\n",
    "  #Nice, readable form\n",
    "  quantiles = pd.DataFrame(quantile.reshape(1,n),\n",
    "                            columns = quantile_names)\n",
    "  return quantiles \n",
    "\n",
    "#quantile values\n",
    "GMQ(p=np.array([0.05,0.25,0.50,0.75,0.95]),\n",
    "    theta=theta_values,\n",
    "    w=theta_probs,\n",
    "    y=500,\n",
    "    tol = 0.01)"
   ]
  },
  {
   "cell_type": "code",
   "execution_count": 27,
   "metadata": {},
   "outputs": [
    {
     "name": "stdout",
     "output_type": "stream",
     "text": [
      "The 95% posterior interval for part c is [138.49 162.98], the 95% predictive interval for part c is [109.66 191.8 ], the 95% posterior interval for part d is [146.16 153.99], and the 95% predictive interval for part d is [110.68 189.47].\n"
     ]
    }
   ],
   "source": [
    "### PROBLEM 6 (BDA 3rd. Ed. 2.8)\n",
    "\n",
    "#functions for mean and variance of posterior\n",
    "def var_n(n,a,b): return 1/(1/(a)**2 + n/(b)**2)\n",
    "def mu_n(n,a,b,m,y): return var_n(n,a,b)*(m/(a)**2 + (n*y)/(b)**2)\n",
    "\n",
    "mu = mu_n(n=np.array([10,10,100,100]),a=40,b=20,m=180,y=150)\n",
    "var = var_n(n=np.array([10,10,100,100]),a=40,b=20)+np.array([0,20**2,0,20**2])\n",
    "\n",
    "norm_ci = norm.ppf([0.025,0.975],loc = mu[:,None],scale = np.sqrt(var[:,None]))\n",
    "norm_ci = np.round(norm_ci, 2) \n",
    "print(f\"The 95% posterior interval for part c is {norm_ci[0,:]}, \"\n",
    "      f\"the 95% predictive interval for part c is {norm_ci[1,:]}, \"\n",
    "      f\"the 95% posterior interval for part d is {norm_ci[2,:]}, and \"\n",
    "      f\"the 95% predictive interval for part d is {norm_ci[3,:]}.\")"
   ]
  },
  {
   "cell_type": "code",
   "execution_count": 28,
   "metadata": {},
   "outputs": [
    {
     "name": "stdout",
     "output_type": "stream",
     "text": [
      "The Normalizing Constant for the Posterior is 0.00047\n",
      "The Posterior Mean is 279.08851\n",
      "The Posterior Standard Deviation is 79.96458\n"
     ]
    }
   ],
   "source": [
    "### PROBLEM 7 (BDA 3rd. Ed. 2.10)\n",
    "\n",
    "#what we sum from and to\n",
    "values = np.arange(203,10000)\n",
    "\n",
    "#normalizing constant\n",
    "prob_X = sum((1/(values))*(1/100)*(99/100)**(values - 1))\n",
    "print(f\"The Normalizing Constant for the Posterior is {round(prob_X,5)}\")\n",
    "\n",
    "#posterior distribution p(N|X)\n",
    "post = (1/(100*prob_X*values))*(99/100)**(values - 1)\n",
    "\n",
    "#E(N|X), i.e. posterior mean\n",
    "mu_N =  sum(values*post)\n",
    "print(f\"The Posterior Mean is {round(mu_N,5)}\")\n",
    "\n",
    "#Var(N|X) = E(N^2|X)-(E(N|X))^2, i.e. posterior variance\n",
    "sd_N = np.sqrt(sum(((values-mu_N)**2)*post))\n",
    "print(f\"The Posterior Standard Deviation is {round(sd_N,5)}\")"
   ]
  },
  {
   "cell_type": "code",
   "execution_count": 29,
   "metadata": {},
   "outputs": [
    {
     "name": "stdout",
     "output_type": "stream",
     "text": [
      "The Posterior Mean is 203.94468\n",
      "The Posterior Standard Deviation is 1.34385\n"
     ]
    }
   ],
   "source": [
    "#part c\n",
    "#for computing the factorial\n",
    "from scipy.special import gammaln\n",
    "\n",
    "# Part c (Poisson Prior)\n",
    "\n",
    "#q(N|X), unnormalized posterior\n",
    "#put everything in terms of log and exponents so R can handle computation\n",
    "post = np.exp(values*np.log(100)-gammaln(values)-100-np.log(values))\n",
    "#p(X)\n",
    "p_X1 = sum(post)\n",
    "#p(N|X)\n",
    "new_post = post/p_X1\n",
    "#E(N|X)\n",
    "mu_N1 =  sum(values*new_post)\n",
    "print(f\"The Posterior Mean is {round(mu_N1,5)}\")\n",
    "\n",
    "#sd(N|X)\n",
    "sd_N1 = np.sqrt(sum((values-mu_N1)**2*new_post))\n",
    "print(f\"The Posterior Standard Deviation is {round(sd_N1,5)}\")"
   ]
  },
  {
   "cell_type": "code",
   "execution_count": 30,
   "metadata": {},
   "outputs": [
    {
     "name": "stdout",
     "output_type": "stream",
     "text": [
      "The 95% predictive interval for part a is [14. 34.], the 95% predictive interval for part b is [22. 46.], the 95% predictive interval for part c is [638. 747.], and the 95% predictive interval for part d is [ 904. 1034.].\n"
     ]
    }
   ],
   "source": [
    "### PROBLEM 8 (BDA 3rd Ed. 2.13)\n",
    "\n",
    "### STORES OUR INFORMATION\n",
    "\n",
    "df  = {\n",
    "       'Accidents':np.array([24, 25, 31, 31, 22, 21, 26, 20, 16, 22]),\n",
    "       'Deaths': np.array([734, 516, 754, 877, 814, 362, 764, 809, 223, 1066]),\n",
    "       'Year': np.arange(1,11),\n",
    "       'Death Rate': np.array([0.19, 0.12, 0.15, 0.16, 0.14,\n",
    "                               0.06, 0.13, 0.13, 0.03, 0.15])\n",
    "                   } \n",
    "df = pd.DataFrame(df)\n",
    "\n",
    "#Adds new column of miles flown\n",
    "df['Miles'] = df['Deaths']*1e8 / df['Death Rate']\n",
    "\n",
    "#Prior distribution parameters\n",
    "prior_shape = 0; prior_rate = 0\n",
    "\n",
    "## APPROACH 1: FIND POSTERIOR PREDICTIVE DISTRIBUTION\n",
    "#part a,b, c and d\n",
    "#size parameter for negative binomial\n",
    "sizes =  np.array([df['Accidents'].sum(),df['Accidents'].sum(),\n",
    "                  df['Deaths'].sum(),df['Deaths'].sum()]) + prior_shape\n",
    "    \n",
    "#corresponding probability parameters\n",
    "pr = np.array([df.shape[0]/(df.shape[0]+1+prior_rate),\n",
    "                 df['Miles'].sum()/(df['Miles'].sum()+(8e11)+prior_rate),\n",
    "                 df.shape[0]/(df.shape[0]+1+prior_rate),\n",
    "                 df['Miles'].sum()/(df['Miles'].sum()+(8e11)+prior_rate)])\n",
    "    \n",
    "nbinom_ci = nbinom.ppf([0.025,0.975],n = sizes[:,None], p= pr[:,None]) \n",
    "print(f\"The 95% predictive interval for part a is {nbinom_ci[0,:]}, \"\n",
    "      f\"the 95% predictive interval for part b is {nbinom_ci[1,:]}, \"\n",
    "      f\"the 95% predictive interval for part c is {nbinom_ci[2,:]}, and \"\n",
    "      f\"the 95% predictive interval for part d is {nbinom_ci[3,:]}.\")"
   ]
  },
  {
   "cell_type": "code",
   "execution_count": 31,
   "metadata": {},
   "outputs": [
    {
     "name": "stdout",
     "output_type": "stream",
     "text": [
      "The 95% predictive interval for part a is [15 35], the 95% predictive interval for part b is [22 46], the 95% predictive interval for part c is [644 745], and the 95% predictive interval for part d is [ 905 1036].\n"
     ]
    }
   ],
   "source": [
    "## APPROACH 2: SAMPLE FROM POSTERIOR, PLUG BACK INTO LIKELIHOOD\n",
    "#Strategy:\n",
    "#(sample from theta|y, plug values  into y|theta, sort from least to greatest)\n",
    "#find 25th and 975th place, these represent endpoints of 95% posterior interval\n",
    "\n",
    "#sample size and quantiles (recall python index starts at 0)\n",
    "N = 1000; q = [24,974]\n",
    "\n",
    "#shape parameter (notice this is also size parameter for negative binomial)\n",
    "a = np.array([df['Accidents'].sum(),df['Accidents'].sum(),\n",
    "                  df['Deaths'].sum(),df['Deaths'].sum()]) + prior_shape\n",
    "#rate parameter\n",
    "b = np.array([1/(df.shape[0]+ prior_rate), 1/(df['Miles'].sum()+ prior_rate),\n",
    "             1/(df.shape[0]+ prior_rate), 1/(df['Miles'].sum()+ prior_rate)]) \n",
    "\n",
    "#miles proportion\n",
    "m  = np.array([1,(8e11),1,(8e11)])\n",
    "\n",
    "#samples from posterior, multiplies by m_j\n",
    "l=[m[j]*gamma.rvs(size=N, a=a[j], scale=b[j]) for j in range(len(a))]\n",
    "#puts samples into likelihood, sorts from least to greatest\n",
    "l = np.array([sorted(poisson.rvs(size=N, mu = l[j])) for j in range(len(a))])\n",
    "post_ci = l[:,q]\n",
    "print(f\"The 95% predictive interval for part a is {post_ci[0,:]}, \"\n",
    "      f\"the 95% predictive interval for part b is {post_ci[1,:]}, \"\n",
    "      f\"the 95% predictive interval for part c is {post_ci[2,:]}, and \"\n",
    "      f\"the 95% predictive interval for part d is {post_ci[3,:]}.\")"
   ]
  },
  {
   "cell_type": "code",
   "execution_count": null,
   "metadata": {},
   "outputs": [],
   "source": []
  }
 ],
 "metadata": {
  "kernelspec": {
   "display_name": "Python 3",
   "language": "python",
   "name": "python3"
  },
  "language_info": {
   "codemirror_mode": {
    "name": "ipython",
    "version": 3
   },
   "file_extension": ".py",
   "mimetype": "text/x-python",
   "name": "python",
   "nbconvert_exporter": "python",
   "pygments_lexer": "ipython3",
   "version": "3.7.4"
  }
 },
 "nbformat": 4,
 "nbformat_minor": 2
}
